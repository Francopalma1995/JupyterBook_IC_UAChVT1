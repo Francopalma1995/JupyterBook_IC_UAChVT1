{
 "cells": [
  {
   "cell_type": "markdown",
   "id": "d71c29c1",
   "metadata": {},
   "source": [
    "# Permisos y derecho de la construcción\n",
    "\n",
    "<img src=\"../figuras/reg.png\" width=\"700\">\n",
    "\n",
    "Se requieren permisos de construcción y otros permisos para construir, reconstruir, modificar, ampliar, demoler o realizar obras menores (Solminiac & Thenoux, 1998).\n",
    "\n",
    "\n",
    "\n",
    "## Permiso de construcción\n",
    "\n",
    "\n",
    "Se debe presentar un conjunto específico de documentos al Director de Obras Municipales cuando las obras menores incluyen la construcción, reconstrucción o modificación de edificios, reparaciones, ampliaciones o demoliciones de componentes principales."
   ]
  },
  {
   "cell_type": "code",
   "execution_count": null,
   "id": "1bc47862",
   "metadata": {},
   "outputs": [],
   "source": []
  }
 ],
 "metadata": {
  "kernelspec": {
   "display_name": "Python 3 (ipykernel)",
   "language": "python",
   "name": "python3"
  },
  "language_info": {
   "codemirror_mode": {
    "name": "ipython",
    "version": 3
   },
   "file_extension": ".py",
   "mimetype": "text/x-python",
   "name": "python",
   "nbconvert_exporter": "python",
   "pygments_lexer": "ipython3",
   "version": "3.7.15"
  }
 },
 "nbformat": 4,
 "nbformat_minor": 5
}
