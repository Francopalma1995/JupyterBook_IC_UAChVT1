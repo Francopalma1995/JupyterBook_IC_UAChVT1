{
 "cells": [
  {
   "cell_type": "markdown",
   "id": "d71c29c1",
   "metadata": {},
   "source": [
    "# Sector de la construcción y Partes involucradas\n",
    "\n",
    "Según la investigación de Peralta y Serpell (1991), la industria de la construcción es una de las principales impulsoras del crecimiento y progreso de la población del país. Los productos que produce tienen un impacto directo en el funcionamiento y desarrollo de la sociedad y son muy utilizados por todos sus miembros.\n",
    "\n",
    "La industria de la construcción es un conjunto de empresas que operan en el ámbito nacional y cuyos productos finales, como resultado de sus operaciones in situ, corresponden a construcciones residenciales y no residenciales, edificación industrial y obra civil (Solminiac & Thenoux , 1998).\n",
    "\n",
    "\n",
    "<img src=\"../figuras/inicio.png\" width=\"700\">\n"
   ]
  },
  {
   "cell_type": "markdown",
   "id": "bfce5d0a",
   "metadata": {},
   "source": [
    "**La Construcción habitacional**: casas, edificios residenciales o construcción de viviendas.\n",
    "\n",
    "<img src=\"../figuras/c_v.png\" width=\"700\">\n",
    "\n",
    "\n"
   ]
  },
  {
   "cell_type": "markdown",
   "id": "a33f9868",
   "metadata": {},
   "source": [
    "**La construcción que no es residencial** incluye, entre otras cosas, hospitales, oficinas, escuelas y edificios comerciales.\n",
    "\n",
    "\n",
    "<img src=\"../figuras/c_nv.png\" width=\"700\">\n",
    "\n",
    "\n"
   ]
  },
  {
   "cell_type": "markdown",
   "id": "d313482c",
   "metadata": {},
   "source": [
    "**Obras civiles:** Son proyectos de ingeniería como puertos, dársenas, puentes, túneles, carreteras, represas, aeropuertos, entre otros.\n",
    "\n",
    "<img src=\"../figuras/c_ob.png\" width=\"700\">\n",
    "\n",
    "\n"
   ]
  },
  {
   "cell_type": "markdown",
   "id": "887b27ea",
   "metadata": {},
   "source": [
    "**Obras industriales:** Estas tareas se relacionan con la instalación de la infraestructura y el equipamiento de las plantas de procesamiento industrial.\n",
    "\n",
    "<img src=\"../figuras/c_oi.png\" width=\"700\">\n",
    "\n",
    "\n",
    "\n",
    "\n"
   ]
  },
  {
   "cell_type": "markdown",
   "id": "7db2a939",
   "metadata": {},
   "source": [
    "\n",
    "\n",
    "## Partes involucradas en la industria de la construcción\n",
    "\n",
    "\n",
    "Los diversos grupos de individuos involucrados en el desarrollo general de cada proyecto son mencionados por Peralta y Serpell (1991) en su estudio \"Características de la Industria de la Construcción\".\n",
    "\n",
    "- Mandantes o propietarios.\n",
    "\n",
    "\n",
    "- Diseñadores.\n",
    "\n",
    "\n",
    "- Contratistas y subcontratistas del área de la construcción.\n",
    "\n",
    "\n",
    "- Mano de Obra.\n",
    "\n",
    "\n"
   ]
  },
  {
   "cell_type": "code",
   "execution_count": null,
   "id": "2d803b84",
   "metadata": {},
   "outputs": [],
   "source": []
  }
 ],
 "metadata": {
  "kernelspec": {
   "display_name": "Python 3 (ipykernel)",
   "language": "python",
   "name": "python3"
  },
  "language_info": {
   "codemirror_mode": {
    "name": "ipython",
    "version": 3
   },
   "file_extension": ".py",
   "mimetype": "text/x-python",
   "name": "python",
   "nbconvert_exporter": "python",
   "pygments_lexer": "ipython3",
   "version": "3.7.15"
  }
 },
 "nbformat": 4,
 "nbformat_minor": 5
}
