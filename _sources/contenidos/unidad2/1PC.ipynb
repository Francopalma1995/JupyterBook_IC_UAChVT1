{
 "cells": [
  {
   "cell_type": "markdown",
   "id": "d71c29c1",
   "metadata": {},
   "source": [
    "<img src=\"../figuras/p_c.png\" width=\"700\">\n",
    "\n",
    "\n",
    "\n",
    "# Procesos Constructivos\n",
    "\n",
    "De esta manera, para poder construir un edificio es necesario que el proyecto se encuentre terminado, aprobado y cumpla con los siguientes parámetros:\n",
    "\n",
    "<img src=\"../figuras/PC.png\" width=\"700\">\n",
    "\n",
    "\n",
    "> ***Cada componente estructural, incluyendo sus dimensiones, indicaciones, normas a que se refieren y especificaciones técnicas pertinentes, deben especificarse en los planos y deben interactuar directamente con la construcción.***\n",
    "\n",
    "\n",
    "> ***Cada uno de estos documentos necesita tener información muy específica para que la mano de obra los entiendan e interactúen fácilmente y puedan completar su construcción dentro del marco de tiempo designado.*** \n",
    "\n",
    "> ***La etapa de construcción, donde se llevará a cabo la evaluación y verificación del proceso constructivo del proyecto, puede comenzar una vez que se hayan satisfecho todos los requisitos reglamentarios en los documentos (Ceballo,2016).***\n",
    "\n",
    "\n",
    "\n",
    "Para la elaboración del libro virtual se utilizan como guías materiales de diversos proyectos, revistas académicas relacionadas con los procesos constructivos y páginas web cuidadosamente seleccionadas, de las cuales se extraerá la información necesaria, como los requisitos y su descripción. \n",
    "\n",
    "Los procesos constructivos se han dividido en Etapas, incluyendo obra preliminar, obra bruta, terminación. Cada una de estas etapas se discutirá con más detalle a continuación.\n",
    "\n"
   ]
  },
  {
   "cell_type": "code",
   "execution_count": null,
   "id": "a8bcc9fc",
   "metadata": {},
   "outputs": [],
   "source": []
  }
 ],
 "metadata": {
  "kernelspec": {
   "display_name": "Python 3 (ipykernel)",
   "language": "python",
   "name": "python3"
  },
  "language_info": {
   "codemirror_mode": {
    "name": "ipython",
    "version": 3
   },
   "file_extension": ".py",
   "mimetype": "text/x-python",
   "name": "python",
   "nbconvert_exporter": "python",
   "pygments_lexer": "ipython3",
   "version": "3.7.15"
  }
 },
 "nbformat": 4,
 "nbformat_minor": 5
}
