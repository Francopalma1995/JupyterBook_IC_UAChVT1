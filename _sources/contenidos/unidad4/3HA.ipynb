{
 "cells": [
  {
   "cell_type": "markdown",
   "id": "d71c29c1",
   "metadata": {},
   "source": [
    "<img src=\"../figuras/hormigon_armado.jpg\" width=\"700\">\n",
    "\n",
    "\n",
    "# Estructuras de hormigón Armado\n",
    "\n",
    "\n",
    "Se darán a conocer los elementos que forman parte de la estructura de hormigón armado. Este es el esqueleto del edificio, y esta conformado por elementos estructurales, los que se catalogan en primarios, destinados a transmitir a la infraestructura los esfuerzos que demandan la obra de construcción, y los elementos estructurales secundarios, destinados a servir de soporte a elementos no estructurales tales como pórticos, tabiques, cielos, entre otros. En consecuencia, es claro que los componentes estructurales de una edificación, que se dividen en pilares, vigas, cadenas, muros y losas, debido a su papel como componentes resilientes de la estructura, son los más cruciales (Solminiac & Thenoux, 1998).\n",
    "\n",
    "\n",
    "<img src=\"../figuras/indiceEHA.png\" width=\"1000\">\n",
    "\n",
    "\n",
    "\n",
    "## Pilares\n",
    "\n",
    "\n",
    "Son elementos estructurales verticales que, según su ubicación en la estructura del proyecto, deben soportar cargas de compresión, flexión, cortante y torsión. Los pilares comunes, columnas y machones son la forma en que generalmente se clasifican.\n",
    "\n",
    "\n",
    "- **Pilar común** \n",
    "\n",
    "Son aquellos que tiene al menos una cara adosada a una pared. Estos pilares se dividen a su vez en extremos, que tiene una sola cara adosada al muro, intermedios, el que tienen dos de sus caras opuestas adosadas a un muro y el esquinero, con dos de sus caras verticales contiguas en contacto con los muros.\n",
    "\n",
    "<img src=\"../figuras/pilar_comun.jpg\" width=\"700\">\n",
    "\n",
    "- **Columnas** \n",
    "\n",
    "Pilares aislados que no están adosados a ningún muro. \n",
    "\n",
    "<img src=\"../figuras/columnas.png\" width=\"700\">\n",
    "\n",
    "- **Machones** \n",
    "\n",
    "Pilares con una dimensión (diferente a la longitud) significativamente mayor que la otra (Solminiac & Thenoux, 1998).\n",
    "\n",
    "<img src=\"../figuras/machones.jpg\" width=\"700\">\n",
    "\n",
    "\n",
    "## Vigas\n",
    "\n",
    "Los elementos estructurales horizontales, que se diseñan principalmente a flexión, corte y torsión, se pueden dividir en vigas aisladas, que pueden tener diferente forma geométrica, según el material con el que estén construidas, y la viga colaborante, que es una viga de hormigón o metal que trabaja junto con la estructura de la losa (Solminiac & Thenoux, 1998).\n",
    "\n",
    "<img src=\"../figuras/vigas.jpg\" width=\"700\">\n",
    "\n",
    "\n",
    "## Cadenas\n",
    "\n",
    "Elementos horizontales que son significativamente más largos que su sección transversal y están apoyados en toda su longitud, lo que significa que no están sujetos a esfuerzos de flexión; de acuerdo a su ubicación y función se dividen en cadenas normales, aquellas que van sobre muros y su función es amarrar los pilares; Las cadenas de dintel, son aquellas que se colocan en la parte superior de un vano de menos de dos metros, como en una ventana o puerta (si la longitud es superior a dos metros se debe utilizar una viga dintel); las cadenas de sobrecimientos, son aquellas que se ubican a la altura del primer piso, y las cadenas de fundación (Solminiac & Thenoux, 1998).\n",
    "\n",
    "<img src=\"../figuras/cadenas.jpg\" width=\"700\">\n",
    "\n",
    "\n",
    "\n",
    "## Muros\n",
    "\n",
    "Solminiac & Thenoux(1998),  menciona que se pueden categorizar en función a su uso previsto y de los materiales utilizados en su fabricación. Así mismo, los define como elementos verticales con un espesor significativamente menor que el resto de sus dimensiones.\n",
    "\n",
    "**Muros estructurales**, Cuando se planifican y construyen elementos estructurales que pueden transmitir fuerzas verticales y resistir fuerzas de corte horizontales, se convierten en muros estructurales.   \n",
    "\n",
    "**Muros no estructurales** que son aquellos que separan ambientes dentro o fuera de un edificio, deben tener fundamentalmente propiedades y acústicas. No es necesario que tengan propiedades de resistencia estructural; pueden ser opacos o transparentes.\n",
    "\n",
    "**Mampostería** La albañilería es el método de construcción utilizado para construir muros de bloques o ladrillos, que se utilizan para separar habitaciones dentro de los edificios (Cevallos, 2016).\n",
    "\n",
    "\n",
    "<img src=\"../figuras/muro_hormigonado.jpg\" width=\"700\">\n",
    " \n",
    "\n",
    "\n",
    "## Losas\n",
    "\n",
    "\n",
    "Son elementos estructurales horizontales, cuyas dimensiones en planta son mucho mayores que su espesor, donde las cargas son perpendiculares a su superficie, sometidos principalmente a esfuerzos de flexión, donde las cargas se transmiten a sus bordes de apoyo, y se utilizan para proporcionar superficies planas y firme. La distribución del refuerzo, la forma y composición de la estructura, los soportes y el método de construcción son solo algunos de los factores que se utilizan para categorizar las losas ([Construyendo](https://construyendo.co/losas/tipos.php), 2016).\n",
    "\n",
    "\n",
    "<img src=\"../figuras/losas.png\" width=\"700\">\n",
    "\n",
    "\n",
    "## Escaleras\n",
    "\n",
    "Está diseñado para facilitar el acceso entre los diferentes niveles de una construcción uniéndolos en pasos sucesivos (Stozitzky & Prieto,1989).\n",
    "\n",
    "<img src=\"../figuras/escaleras.jpg\" width=\"700\">\n",
    "\n",
    "\n"
   ]
  },
  {
   "cell_type": "code",
   "execution_count": 1,
   "id": "098f682a",
   "metadata": {},
   "outputs": [
    {
     "data": {
      "text/html": [
       "\n",
       "        <iframe\n",
       "            width=\"400\"\n",
       "            height=\"300\"\n",
       "            src=\"https://www.youtube.com/embed/SuJoOV0gcdw\"\n",
       "            frameborder=\"0\"\n",
       "            allowfullscreen\n",
       "            \n",
       "        ></iframe>\n",
       "        "
      ],
      "text/plain": [
       "<IPython.lib.display.YouTubeVideo at 0x142ce2aa708>"
      ]
     },
     "execution_count": 1,
     "metadata": {},
     "output_type": "execute_result"
    }
   ],
   "source": [
    "from IPython.display import YouTubeVideo\n",
    "\n",
    "YouTubeVideo(\"SuJoOV0gcdw\")"
   ]
  },
  {
   "cell_type": "code",
   "execution_count": null,
   "id": "c27d4969",
   "metadata": {},
   "outputs": [],
   "source": []
  }
 ],
 "metadata": {
  "kernelspec": {
   "display_name": "Python 3 (ipykernel)",
   "language": "python",
   "name": "python3"
  },
  "language_info": {
   "codemirror_mode": {
    "name": "ipython",
    "version": 3
   },
   "file_extension": ".py",
   "mimetype": "text/x-python",
   "name": "python",
   "nbconvert_exporter": "python",
   "pygments_lexer": "ipython3",
   "version": "3.7.15"
  }
 },
 "nbformat": 4,
 "nbformat_minor": 5
}
