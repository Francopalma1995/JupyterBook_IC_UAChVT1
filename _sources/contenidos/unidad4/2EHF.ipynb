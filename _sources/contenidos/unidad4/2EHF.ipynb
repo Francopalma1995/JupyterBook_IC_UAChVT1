{
 "cells": [
  {
   "cell_type": "markdown",
   "id": "92503305",
   "metadata": {},
   "source": [
    "# Fundaciones\n",
    "\n",
    "Los cimientos del edificio son componentes que están destinados a transferir los esfuerzos del edificio al suelo (Solminiac & Thenoux, 1998).\n",
    "\n",
    "\n",
    "<img src=\"../figuras/indiceFund.png\">\n"
   ]
  },
  {
   "cell_type": "markdown",
   "id": "30734e7e",
   "metadata": {},
   "source": [
    "## Tipos de Fundaciones\n",
    "\n",
    "Las fundaciones se clasifican en 6 grupos fundaciones superficiales, profundas, indirectas, hidráulicas, por consolidación y en subfundaciones ([ONDAC](https://portal.ondac.com/601/w3-article-120123.html), 2018).\n",
    "\n",
    "\n",
    "<img src=\"../figuras/indiceFund1.png\">"
   ]
  },
  {
   "cell_type": "markdown",
   "id": "86464e5a",
   "metadata": {},
   "source": [
    "### Fundaciones superficiales\n",
    "\n",
    "Este tipo de fundación son aquellas que transfieren por compresión las cargas al suelo de apoyo (Solminiac & Thenoux, 1998).\n",
    "\n",
    "- **Fundación aislada:** \n",
    "\n",
    "Es una solución económica que recibe la carga de una columna o pilar y lo traslada a la tierra a través  un pequeño ensanchamiento.\n",
    "\n",
    "<img src=\"../figuras/fundacion_aislada.png\" width=\"700\">\n",
    "\n",
    "\n",
    "- **Fundación corrida:** \n",
    "\n",
    "Se provee una zapata continua a lo largo de la base del muro para recibir la hilera de columnas cuando la carga es transmitida por un muro o una hilera de columnas (Stozitzky & Prieto,1989).\n",
    "\n",
    "<img src=\"../figuras/fundacion_corrida.png\" width=\"700\">\n",
    "\n",
    "- **Losa de fundación:**\n",
    "\n",
    "Una losa de cimentación es una placa de hormigón que se apoya en el suelo y distribuye el peso y las cargas del edificio por toda la superficie de apoyo (ONDAC,2016).\n",
    "\n",
    "<img src=\"../figuras/fundacion_losa.png\" width=\"700\">\n",
    "\n",
    "[Construccion en seco = Losa de cimentación: Ventajas y desventajas ](https://construccionenseco.net/cimientos/losa-de-cimentacion-ventajas-y-desventajas/)"
   ]
  },
  {
   "cell_type": "markdown",
   "id": "cca29bf8",
   "metadata": {},
   "source": [
    "### Fundación profunda\n",
    "\n",
    "Se debe excavar para encontrar una capa adecuada a las necesidades de la obra cuando los estratos superficiales son demasiado débiles y se deforman fácilmente por las cargas, lo que puede provocar  giros en las losas o en las zapatas (Stozitzky & Prieto,1989).\n",
    "\n",
    "<img src=\"../figuras/fundacion_profunda.jpg\" width=\"700\">\n",
    "\n",
    "[Fundaciones Profundas: Soluciones](https://www.terratest.cl/soluciones/fundaciones-profundas2/)\n"
   ]
  },
  {
   "cell_type": "markdown",
   "id": "0077cf33",
   "metadata": {},
   "source": [
    "### Fundación indirecta o por pilotes\n",
    "\n",
    "El pilote recibe la carga y la transmite al suelo de dos formas, de punta, como si fuese una columna apoyada sobre un plano resistente, y por rozamiento lateral con el suelo, se distinguen los siguientes: Pilotes de madera, Pilotes de hormigón (Pilotes fundidos in situ, Pilotes prefabricados), Pilotes de acero (ONDAC,2018).\n",
    "\n",
    "<img src=\"../figuras/fundacion_pilotes.jpg\" width=\"700\">\n"
   ]
  },
  {
   "cell_type": "markdown",
   "id": "02194482",
   "metadata": {},
   "source": [
    "### Fundaciones hidráulicas\n",
    "\n",
    "En terrenos inundados, solo hay dos opciones, sacar el agua o trabajar con ella. En el primer caso se utilizan bombas; si su capacidad es suficiente para extraer el agua, se tiene  fundación con agotamiento hidráulico, por otra parte, si las bombas no pueden producir el agotamiento total , se tiene la fundación por depresión del nivel freático y finalmente cuando no es posible ni el agotamiento ni la depresión, se tiene entonces una  fundación hidráulica sin agotamiento (ONDAC, 2016).\n",
    "\n",
    "<img src=\"../figuras/fundacion_hidr.jpg\" width=\"700\">\n",
    "\n"
   ]
  },
  {
   "cell_type": "markdown",
   "id": "00c73827",
   "metadata": {},
   "source": [
    "### Fundación por consolidación\n",
    "\n",
    "La idea básica detrás de este tipo de fundación es mejorar por las condiciones del suelo por medios artificiales para asentar sobre el algunas fundaciones, se trata de aumentar la capacidad de soporte mediante la compactación mecánica o su endurecimiento por medios químicos, son tres los tipos de compactación, Congelamiento, compactación (vibrando la masa, introduciendo pilotes) y por último mediante inyecciones petrificantes (ONDAC, 2018).\n",
    "\n",
    "<img src=\"../figuras/fundacion_cons.png\" width=\"700\">\n",
    "\n",
    "[Geocron= TRATAMIENTO DE FUNDACIONES](http://www.geocron.com/relleno.htm)\n",
    "\n"
   ]
  },
  {
   "cell_type": "markdown",
   "id": "d2e16bf5",
   "metadata": {},
   "source": [
    "### Subfunción \n",
    "\n",
    "La construcción de sótanos en edificios existentes es un proceso delicado, costoso y lento que, en ocasiones, se lleva a cabo en condiciones extremadamente difíciles. Se complica aún más por la necesidad de salvaguardar la estructura que se soterrará durante el período de construcción y de velar por la seguridad del personal y de otras personas. Los trabajos se realizarán en las siguientes etapas: demolición de la antigua estructura, descascarillado o excavación al nivel deseado. nueva construcción de cimientos, apuntalamiento y remoción de andamios temporales (ONDAC, 2018).\n"
   ]
  },
  {
   "cell_type": "markdown",
   "id": "eb83ca70",
   "metadata": {},
   "source": [
    "## Proceso constructivo\n",
    "\n",
    "<img src=\"../figuras/procesos_fundacion.png\" width=\"700\">\n",
    "\n",
    "Entre ellos destacan:\n",
    "\n",
    "- Excavacion- Sello de fundacion\n",
    "\n",
    "<img src=\"../figuras/indiceSF.png\">\n",
    "\n",
    "- Mejoramiento de suelo\n",
    "\n",
    "<img src=\"../figuras/indiceMS.png\">\n",
    "\n",
    "\n",
    "- Emplantillado\n",
    "\n",
    "<img src=\"../figuras/indiceEmp.png\">\n",
    "\n",
    "- Enfierradura\n",
    "\n",
    "<img src=\"../figuras/indiceEnf_1.png\">\n",
    "\n",
    "- Moldaje\n",
    "\n",
    "<img src=\"../figuras/indiceMol.png\">\n",
    "\n",
    "- Hormigones \n",
    "\n",
    "<img src=\"../figuras/indiceHor.png\">\n"
   ]
  },
  {
   "cell_type": "markdown",
   "id": "5378f485",
   "metadata": {},
   "source": [
    "\n",
    "\n",
    "### Excavacion- Sello de fundación\n",
    "\n",
    "\n",
    "\n",
    "<img src=\"../figuras/fundacion_SelloFundacion.png\" width=\"700\">\n",
    "\n",
    "*Sello de fundacion* \n",
    "\n",
    "\n",
    "\n",
    "<img src=\"../figuras/fundacion_procesos1.png\" width=\"400\">\n",
    "\n",
    "   \n",
    "   \n",
    "### Diagrama de Flujo – “Sello de Fundación” \n",
    "\n",
    "\n",
    "      \n",
    "<img src=\"../figuras/fundacion_SelloF1.png\">\n",
    "    \n",
    "<img src=\"../figuras/fundacion_SelloF2.png\">\n",
    "\n",
    "<cite data-cite=\"vega2018you3\">(Vega,2018)</cite>\n",
    "\n",
    "\n",
    "     \n",
    "### Diagrama de Flujo – “Certificación de Sello”\n",
    "\n",
    "\n",
    "   \n",
    "<img src=\"../figuras/fundacion_CSello1.png\">\n",
    "\n",
    "<cite data-cite=\"vega2018you3\">(Vega,2018)</cite>\n",
    "\n",
    "   \n",
    "   \n",
    "### Diagrama de Flujo – “Material de Relleno”\n",
    "\n",
    "\n",
    "   \n",
    "<img src=\"../figuras/fundacion_SelloMR.png\">\n",
    "\n",
    "<cite data-cite=\"vega2018you3\">(Vega,2018)</cite>\n",
    "\n"
   ]
  },
  {
   "cell_type": "markdown",
   "id": "6de326eb",
   "metadata": {},
   "source": [
    "\n",
    "\n",
    "\n",
    "### Mejoramiento de suelo\n",
    "\n",
    "<img src=\"../figuras/mejoramiento_1.jpg\">\n",
    "\n",
    "\n"
   ]
  },
  {
   "cell_type": "markdown",
   "id": "07679239",
   "metadata": {},
   "source": [
    "### Emplantillado\n",
    "\n",
    "<img src=\"../figuras/fundacion_emplantillado.jpg\">\n",
    "\n",
    "[Emplantillado de cimientos](https://fotos.habitissimo.cl/foto/emplantillado-de-cimientos_205207)\n",
    "\n",
    "### Diagrama de Flujo – “Trazado del Emplantillado”\n",
    "\n",
    "<img src=\"../figuras/trazado_emplantillado.png\">\n",
    "\n",
    "<cite data-cite=\"vega2018you3\">(Vega,2018)</cite>\n",
    "     \n",
    "\n",
    "<img src=\"../figuras/fundacion_procesos2.png\">\n",
    "\n",
    "### Diagrama de Flujo – “Emplantillado”\n",
    "\n",
    "<img src=\"../figuras/fundacion_Emp1.png\">\n",
    "    \n",
    "<img src=\"../figuras/fundacion_Emp2.png\">\n",
    "\n",
    "<cite data-cite=\"vega2018you3\">(Vega,2018)</cite>\n"
   ]
  },
  {
   "cell_type": "markdown",
   "id": "cce0e39e",
   "metadata": {},
   "source": [
    "### Armadura\n",
    "\n",
    "<img src=\"../figuras/fundacion_enfierradura.jpg\">\n",
    "\n",
    "*Enfierradura-Armadura en Zapata aislada*\n",
    "\n",
    "### Diagrama de Flujo Armadura\n",
    "\n",
    "<img src=\"../figuras/Diagrama_Enfierradura.png\">\n",
    "\n",
    "<cite data-cite=\"Osses2015you3\">(Osses,2015)</cite>\n",
    "\n"
   ]
  },
  {
   "cell_type": "markdown",
   "id": "64af40ed",
   "metadata": {},
   "source": [
    "### Moldaje.\n",
    "\n",
    "### Diagrama de Flujo Moldaje\n",
    "\n",
    "<img src=\"../figuras/Diagrama_moldaje.png\">\n",
    "\n",
    "<cite data-cite=\"Osses2015you3\">(Osses,2015)</cite>"
   ]
  },
  {
   "cell_type": "markdown",
   "id": "89831acf",
   "metadata": {},
   "source": [
    "### Hormigones\n",
    "\n",
    "<img src=\"../figuras/fundacion_hormigon.jpg\" width=\"700\">\n",
    "\n",
    "*Curado de hormigón en radier*\n",
    "\n",
    "\n",
    "### Diagrama de Flujo – “Trabajo Previo del Hormigón”\n",
    "\n",
    "<img src=\"../figuras/fundacion_Htp.png\">\n",
    "\n",
    "<cite data-cite=\"vega2018you3\">(Vega,2018)</cite>\n",
    "\n",
    "### Diagrama de Flujo Hormigonado Capacho\n",
    "\n",
    "<img src=\"../figuras/Diagrama_HormigonadoC.png\">\n",
    "\n",
    "<cite data-cite=\"Osses2015you3\">(Osses,2015)</cite>\n",
    "\n",
    "\n",
    "### Diagrama de Flujo Hormigonado Bombeo\n",
    "\n",
    "<img src=\"../figuras/Diagrama_HormigonadoB.png\">\n",
    "\n",
    "<cite data-cite=\"Osses2015you3\">(Osses,2015)</cite>\n",
    "\n",
    "\n",
    "### Diagrama de Flujo Radier\n",
    "\n",
    "<img src=\"../figuras/d_f_radier.png\">\n",
    "\n",
    "<cite data-cite=\"Osses2015you3\">(Osses,2015)</cite>\n",
    "\n",
    "\n"
   ]
  },
  {
   "cell_type": "code",
   "execution_count": 2,
   "id": "f4a5e4df",
   "metadata": {},
   "outputs": [
    {
     "data": {
      "image/jpeg": "[encoded data removed]",
      "text/html": [
       "\n",
       "        <iframe\n",
       "            width=\"400\"\n",
       "            height=\"300\"\n",
       "            src=\"https://www.youtube.com/embed/gmO4nj6GxY8\"\n",
       "            frameborder=\"0\"\n",
       "            allowfullscreen\n",
       "            \n",
       "        ></iframe>\n",
       "        "
      ],
      "text/plain": [
       "<IPython.lib.display.YouTubeVideo at 0x15004c06688>"
      ]
     },
     "execution_count": 2,
     "metadata": {},
     "output_type": "execute_result"
    }
   ],
   "source": [
    "from IPython.display import YouTubeVideo\n",
    "\n",
    "YouTubeVideo(\"gmO4nj6GxY8\")"
   ]
  },
  {
   "cell_type": "markdown",
   "id": "59f2521b",
   "metadata": {},
   "source": [
    "<img src=\"../figuras/registro_4.png\" width=\"400\">\n",
    "\n",
    "\n",
    "## Lista de Verificación Radier\n",
    "\n",
    "\n",
    "<img src=\"../figuras/l_v_r.png\">\n",
    "\n",
    "<cite data-cite=\"Almonacid2020you3\">(Almonacid,2020)</cite>"
   ]
  },
  {
   "cell_type": "markdown",
   "id": "e857e2a2",
   "metadata": {},
   "source": [
    "## Protocolo de Recepción de Radier\n",
    "\n",
    "<img src=\"../figuras/p_r_r.png\">\n",
    "\n",
    "<cite data-cite=\"Almonacid2020you3\">(Almonacid,2020)</cite>"
   ]
  }
 ],
 "metadata": {
  "kernelspec": {
   "display_name": "Python 3 (ipykernel)",
   "language": "python",
   "name": "python3"
  },
  "language_info": {
   "codemirror_mode": {
    "name": "ipython",
    "version": 3
   },
   "file_extension": ".py",
   "mimetype": "text/x-python",
   "name": "python",
   "nbconvert_exporter": "python",
   "pygments_lexer": "ipython3",
   "version": "3.7.15"
  }
 },
 "nbformat": 4,
 "nbformat_minor": 5
}
