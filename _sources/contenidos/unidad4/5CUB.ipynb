{
 "cells": [
  {
   "cell_type": "markdown",
   "id": "776db5a7",
   "metadata": {},
   "source": [
    "# Estructura de Cubiertas"
   ]
  },
  {
   "cell_type": "markdown",
   "id": "7dfd9725",
   "metadata": {},
   "source": [
    "Las Cubiertas son estructuras de cierre superior que actúan como cerramientos exteriores. Como todos los demás cerramientos verticales, su objetivo principal es proteger el edificio de los peligros ambientales y otros factores. También proporcionan privacidad, aislamiento acústico y térmico, y protección contra la intemperie. [Construmatica= Cubierta](https://www.construmatica.com/construpedia/Cubiertas)\n",
    "\n",
    "\n",
    "\n",
    "<img src=\"../figuras/indiceECub.png\">\n"
   ]
  },
  {
   "cell_type": "markdown",
   "id": "40281021",
   "metadata": {},
   "source": [
    "## Estructura de Cubiertas de acero\n",
    "\n",
    "### Estructura metalica\n",
    "\n",
    "Es el elemento final de un proyecto de construcción que cubre la parte exterior superior del edificio con la intención de proteger nuestro edificio y a quienes lo usan del mal tiempo.\n",
    "\n",
    "<img src=\"../figuras/estructura_M.jpg\" width=\"700\">\n",
    "\n",
    "- Detalle Estructura Metalica.\n",
    "\n",
    "<img src=\"../figuras/detalle_EM.png\" width=\"700\">\n",
    "\n",
    "\n",
    "### Cercha metalica\n",
    "\n",
    "<img src=\"../figuras/cercha_metalica.jpg\" width=\"700\">\n",
    "\n",
    "- Partes de una estructura de techumbre con cercha metalica.\n",
    "\n",
    "<img src=\"../figuras/estructura_MT.jpg\" width=\"700\">\n",
    "\n",
    "- Detalle Cercha Metalica.\n",
    "\n",
    "<img src=\"../figuras/detalla_cercha.jpg\" width=\"700\">\n",
    "\n",
    "\n",
    "### Estructura de acero galvanizado\n",
    "\n",
    "<img src=\"../figuras/estructura_AG.jpg\" width=\"700\">\n",
    "\n",
    "<img src=\"../figuras/acero_galvanizado.jpg\" width=\"700\">\n",
    "\n",
    "- Detalle Cercha de perfiles de acero galvanizado. \n",
    "\n",
    "<img src=\"../figuras/detalla_cerchaAG.png\" width=\"700\">"
   ]
  },
  {
   "cell_type": "markdown",
   "id": "a917b6ee",
   "metadata": {},
   "source": [
    "## Estructura de Cubiertas de Madera\n",
    "\n",
    "#### Tijerales- viguetas\n",
    "\n",
    "<img src=\"../figuras/tijerales.jpg\" width=\"700\">\n",
    "\n",
    "- Detalle de Techumbre.\n",
    "\n",
    "<img src=\"../figuras/detalle_techumbre.jpg\" width=\"700\">\n",
    "\n",
    "#### Cerchas\n",
    "\n",
    "<img src=\"../figuras/cerchas.jpg\" width=\"700\">\n",
    "\n",
    "\n",
    "<img src=\"../figuras/cercha_madera.jpg\" width=\"700\">\n",
    "\n",
    "- Detalle Cercha de Madera.\n",
    "\n",
    "<img src=\"../figuras/detalla_cerchaM.jpg\" width=\"700\">"
   ]
  },
  {
   "cell_type": "code",
   "execution_count": null,
   "id": "50e2055b",
   "metadata": {},
   "outputs": [],
   "source": []
  }
 ],
 "metadata": {
  "kernelspec": {
   "display_name": "Python 3 (ipykernel)",
   "language": "python",
   "name": "python3"
  },
  "language_info": {
   "codemirror_mode": {
    "name": "ipython",
    "version": 3
   },
   "file_extension": ".py",
   "mimetype": "text/x-python",
   "name": "python",
   "nbconvert_exporter": "python",
   "pygments_lexer": "ipython3",
   "version": "3.7.15"
  }
 },
 "nbformat": 4,
 "nbformat_minor": 5
}
