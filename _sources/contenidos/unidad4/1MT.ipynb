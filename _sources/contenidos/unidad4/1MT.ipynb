{
 "cells": [
  {
   "cell_type": "markdown",
   "id": "d71c29c1",
   "metadata": {},
   "source": [
    "Fernández(2020) en su artículo “Construcciones de vivienda unifamiliar de 3 niveles” menciona que la obra gruesa es referida como la primera etapa de todo proyecto que implique la realización de faenas que conformen la estructura gruesa primaria de una edificación o casa. y cuyo alcance no está definido por una regla fija, pero cuyo alcance aproximado incluye estructura general, cimentaciones y movimiento de tierras.\n"
   ]
  },
  {
   "cell_type": "markdown",
   "id": "bf575e2f",
   "metadata": {},
   "source": [
    "# Movimiento de tierra\n",
    "\n",
    " Las excavaciones y los rellenos necesarios para la obra forman parte de esta partida.\n",
    " \n",
    "<img src=\"../figuras/indice1MT.png\" width=\"1000\"> "
   ]
  },
  {
   "cell_type": "markdown",
   "id": "e35b7d4c",
   "metadata": {},
   "source": [
    "\n",
    "\n",
    "<img src=\"../figuras/exc.jpg\" width=\"700\">\n",
    "\n",
    "\n",
    " \n",
    "## Excavaciones\n",
    "\n",
    "\n",
    "<img src=\"../figuras/indiceExc.png\" width=\"400\">\n",
    "\n",
    "\n",
    "Cevallos(2016) indica en su investigación “Proceso constructivo del edificio administrativo E5 del colegio Alemán Humboldt (anexo Samborondón), ubicado en ciudad Celeste.” Que puede haber variaciones según el terreno y tipo de obra al referirse al material que se debe retirar por debajo del nivel de referencia en los planos.\n",
    "\n",
    "\n",
    "### Excavación dependiendo el material\n",
    "\n",
    "\n",
    "**Excavación en tierra:** \n",
    "\n",
    "Consiste en retirar las capas de suelo que se encuentran por encima de la roca y por debajo de su nivel natural. Debido a su facilidad de movimiento al ser removido por maquinaria, se utiliza frecuentemente rellenos y paracimentaciones.\n",
    "\n",
    "<img src=\"../figuras/ex_tierra.jpg\" width=\"700\">\n",
    "\n",
    "\n",
    "**Excavación en Roca:** \n",
    "\n",
    "Cuando el terreno es duro, la excavación se realiza con la ayudade taladros o explosivos, que rompen las capas resistentes y facilitan a la maquinaria la carga y traslado del material resultante (Stozitzky & Prieto, 1989).\n",
    "\n",
    ">***Barreno***\n",
    "\n",
    "> <img src=\"../figuras/barreno.jpg\" width=\"700\">\n",
    "\n",
    "\n",
    "> ***Explosivos***\n",
    "\n",
    "> <img src=\"../figuras/expl.jpg\" width=\"700\">\n",
    "\n",
    "\n",
    "**Excavación en Fango:** \n",
    "\n",
    "Es el proceso de remover tierra y materiales indeseables que contienen mucha agua, puesto que estos no soportan carga.\n",
    "\n",
    "<img src=\"../figuras/ex_fango.jpg\" width=\"700\">\n",
    "\n",
    "\n",
    "### Excavación según la forma\n",
    "\n",
    "**Excavación de zanjas:**\n",
    "\n",
    "Como su nombre lo indica, son zanjas donde el ancho es menor que el largo y se utilizan para albergar los cimientos de muros, tuberías y otras estructuras (Prieto y Stozitzky, 1989).\n",
    "\n",
    "<img src=\"../figuras/zanja.jpg\" width=\"700\">\n",
    "\n",
    "\n",
    "**Excavación a cielo abierto:** \n",
    "\n",
    "Cuando se elimina el suelo de toda la superficie que se va a construir y la estructura carece de un techo de material natural, se denomina tajo abierto (Solminiac & Thenoux, 1998).\n",
    "\n",
    "<img src=\"../figuras/tajo_abierto.jpg\" width=\"700\">\n",
    "\n",
    "\n",
    "**Excavación de pozos:** \n",
    "\n",
    "Cuando se construyen cimientos o pilotes aislados o se buscan fuentes de agua subterránea, se utiliza la excavación de pozos, es decir, excavaciones superficiales pequeñas con una profundidad significativa.\n",
    "\n",
    "<img src=\"../figuras/exc_pozo.jpg\" width=\"700\">\n",
    "\n",
    "\n",
    "**Excavación de galerías:** \n",
    "\n",
    "Al ser más profundas, estas excavaciones necesitan soporte o entibación.\n",
    "\n",
    "<img src=\"../figuras/exc_galeria.jpg\" width=\"700\">\n",
    "\n",
    "\n",
    "**Cortes:** \n",
    "\n",
    "se desarrollan en terrenos inclinados donde se realizan cortes y desniveles para llegar con mayor seguridad a los niveles designado.\n",
    "\n",
    "<img src=\"../figuras/corte.jpg\" width=\"700\">\n",
    "\n",
    "\n",
    "\n",
    "\n",
    "### Excavación de acuerdo con el modo\n",
    "\n",
    "\n",
    "**Excavación manual:** \n",
    "\n",
    "excavaciones hechas a mano que no involucran el uso de maquinaria y solo requieren una pequeña cantidad de volumen para ser excavadas.\n",
    "\n",
    "<img src=\"../figuras/manual.jpg\" width=\"700\">\n",
    "\n",
    "\n",
    "**Excavación mecánica:** \n",
    "\n",
    "Se utiliza cuando existe la necesidad de excavar a más de dos metros de profundidad o cuando el volumen de la excavación es mayor. \n",
    "\n",
    "<img src=\"../figuras/mecanica.jpg\" width=\"700\">\n",
    "\n",
    "\n",
    "\n",
    "En general las excavaciones de fundacion tendran las dimensiones necesarias para contener las fundaciones consultadas en los planos de estructura, incluyendo el emplantillado segun sea el caso. El sello de fundacion debe ser al menos hasta llegar al terreno firme o segun cota indicada por planos y/o especificaciones tecnicas.\n",
    "\n"
   ]
  },
  {
   "cell_type": "markdown",
   "id": "3a4c9723",
   "metadata": {},
   "source": [
    "\n",
    "## Diagrama de flujo Excavación\n",
    "\n",
    "<img src=\"../figuras/d_f_excavacion.png\">\n",
    "\n",
    "<cite data-cite=\"Osses2015you3\">(Osses,2015)</cite>\n",
    "\n"
   ]
  },
  {
   "cell_type": "markdown",
   "id": "92358f73",
   "metadata": {},
   "source": [
    "\n",
    "\n",
    "<img src=\"../figuras/registro_2.png\" width=\"400\">\n",
    "\n",
    "\n",
    "\n",
    "## Lista de Verificación de Excavación Masiva\n",
    "\n",
    "<img src=\"../figuras/l_v_exc.png\">\n",
    "\n",
    "<cite data-cite=\"Almonacid2020you3\">(Almonacid,2020)</cite>\n",
    "\n",
    "\n",
    "## Lista de Verificación de Excavación de Fundación\n",
    "\n",
    "\n",
    "<img src=\"../figuras/l_v_exc_f.png\">\n",
    "\n",
    "<cite data-cite=\"Almonacid2020you3\">(Almonacid,2020)</cite>"
   ]
  },
  {
   "cell_type": "markdown",
   "id": "c3237718",
   "metadata": {},
   "source": [
    "\n",
    "## Protocolo de Recepción de Excavación\n",
    "\n",
    "<img src=\"../figuras/p_v_exc.png\">\n",
    "\n",
    "<cite data-cite=\"Almonacid2020you3\">(Almonacid,2020)</cite>\n",
    "\n"
   ]
  },
  {
   "cell_type": "markdown",
   "id": "7af552b8",
   "metadata": {},
   "source": [
    "## Rellenos\n",
    "\n",
    "Esta partida se trata cuando se añade material compactado al suelo para darle más resistencia o en zonas donde la altura es superior a la del suelo original, consiste en colocar material de relleno en dichas zonas. El suelo de otras excavaciones o los materiales de escombros no orgánicos son dos tipos diferentes de materiales que se pueden usar como rellenos (Solminiac & Thenoux, 1998).\n",
    "\n",
    "\n",
    "<img src=\"../figuras/comp_y_relleno.jpg\" width=\"700\">\n",
    "\n",
    "\n",
    "En general, los rellenos y compactaciones correspondientes deberán realizarse, según sea necesario, con material según planos y/o especificaciones técnicas, en cuanto a mejoramiento de suelos con espesor según planos de estructura y/o especificaciones técnicas, los cuales deberán alcanzar los niveles allí indicados. . Hasta alcanzar la capacidad de soporte, los rellenos se compactan mecánicamente en capas sucesivas de un espesor determinado por un profesional calificado.\n",
    "\n"
   ]
  },
  {
   "cell_type": "markdown",
   "id": "74618643",
   "metadata": {},
   "source": [
    "\n",
    "### Diagrama de flujo Rellenos\n",
    "\n",
    "<img src=\"../figuras/d_f_relleno.png\">\n",
    "\n",
    "<cite data-cite=\"Osses2015you3\">(Osses,2015)</cite>\n"
   ]
  },
  {
   "cell_type": "markdown",
   "id": "79cf73e6",
   "metadata": {},
   "source": [
    "<img src=\"../figuras/registro_3.png\" width=\"400\">\n",
    "\n",
    "\n",
    "### Lista de Verificación de Rellenos y Capa de Ripio\n",
    "\n",
    "\n",
    "<img src=\"../figuras/l_v_rycr.png\">\n",
    "\n",
    "<cite data-cite=\"Almonacid2020you3\">(Almonacid,2020)</cite>"
   ]
  },
  {
   "cell_type": "markdown",
   "id": "8f9d133b",
   "metadata": {},
   "source": [
    "### Protocolo de Recepción de Excavación\n",
    "\n",
    "<img src=\"../figuras/p_v_rycr.png\">\n",
    "\n",
    "<cite data-cite=\"Almonacid2020you3\">(Almonacid,2020)</cite>"
   ]
  }
 ],
 "metadata": {
  "kernelspec": {
   "display_name": "Python 3 (ipykernel)",
   "language": "python",
   "name": "python3"
  },
  "language_info": {
   "codemirror_mode": {
    "name": "ipython",
    "version": 3
   },
   "file_extension": ".py",
   "mimetype": "text/x-python",
   "name": "python",
   "nbconvert_exporter": "python",
   "pygments_lexer": "ipython3",
   "version": "3.7.15"
  }
 },
 "nbformat": 4,
 "nbformat_minor": 5
}
