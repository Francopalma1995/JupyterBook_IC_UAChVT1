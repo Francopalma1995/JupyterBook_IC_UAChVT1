{
 "cells": [
  {
   "cell_type": "markdown",
   "id": "d71c29c1",
   "metadata": {},
   "source": [
    "<img src=\"../figuras/E_Madera.jpg\" width=\"700\">\n",
    "\n",
    "\n",
    "# Estructura de Madera\n",
    "\n",
    "Las estructuras de madera se forma por la unión de elementos, mediante elementos auxiliares, clavos, tornillos, pernos, con anclaje, conectores, entre otros.\n",
    "\n",
    "Un sistema formado por entramados de piezas de estos materiales corresponde a los muros de madera. Soleras (piezas inferiores), carreras (piezas superiores), montantes (pies derechos), cadenas (piezas horizontales que van entre los montantes) y diagonales (o tirantes, que ayudan a rigidizar los extremos de la estructura) conforman su composición principal. Estos pilares están espaciados a intervalos de cuarenta a sesenta cm. Las paredes de madera se pueden cubrir con una variedad de materiales, que incluyen placas de yeso, placas de fibrocemento, placas OSB, madera machihembrada, madera contrachapada ranurada, revestimiento y aglomerado ([Sodimac](https://sodimac.falabella.com/sodimac-cl/page/sistema-compuesto-de-madera?sid=SO_HO__104974), 2022).\n",
    "\n",
    "\n",
    "<img src=\"../figuras/indiceEMad.png\" width=\"700\">\n",
    "\n"
   ]
  },
  {
   "cell_type": "markdown",
   "id": "490309c3",
   "metadata": {},
   "source": [
    "## Clasificación de las maderas\n",
    "\n",
    "### Según su uso\n",
    "\n",
    "#### Para uso estructural\n",
    "\n",
    "- Grado Estructural N°1 \n",
    "- Grado Estructural N°2\n",
    "- Grado Estructural N°3\n",
    "- Grado Estructural N°4\n",
    "\n",
    "#### Maderas de Uso General\n",
    "\n",
    "\n",
    "### Según su resistencia\n",
    "\n",
    "#### Maderas rojas o duras\n",
    "\n",
    "De mayor resistencia. \n",
    "\n",
    "<img src=\"../figuras/maderas_duras.png\" width=\"400\">\n",
    "\n",
    "#### Maderas blancas o blandas\n",
    "\n",
    "De menor resistencia.\n",
    "\n",
    "<img src=\"../figuras/maderas_blandas.png\" width=\"400\">\n",
    "\n",
    "### Según su grado de humedad\n",
    "\n",
    "- Madera Verde: Tiene más de un 30% de humedad.\n",
    "- Madera Húmeda: Tiene entre un 20% y un 30% de humedad.\n",
    "- Madera Seca al Aire: Tiene entre un 13% y un 18% de humedad, que es la cantidad máxima que se puede secar de forma natural.\n",
    "- Madera Seca en Cámara: La única forma de lograrlo es a través del secado artificial en cámara, y se encuentra en rangos por debajo del 12%.\n",
    "\n",
    "### Madera artificial\n",
    "\n",
    "La madera artificial, a diferencia de la madera natural, tiene los siguientes beneficios:\n",
    "\n",
    "- Estabilidad dimensional: Las fibras de madera que se recomponen en los tableros ya no pueden deformarse con el paso del tiempo al alternar su orientación.\n",
    "- Economía circular: Los residuos de procesamiento, los materiales de baja calidad o las piezas recicladas también se incluyen en la preparación de tableros derivados de la madera, dándoles un nuevo propósito.\n",
    "- Sostenibilidad en términos de medio ambiente: en lugar de talar muchos árboles, las tablas de madera se fabrican con los restos de materiales que estaban destinados a la eliminación.\n",
    "\n",
    "[Maderas Artificales](https://www.emedec.com/maderas-artificiales-alternativas-a-la-madera-natural/)\n",
    "\n",
    "<img src=\"../figuras/madera_artificial.png\" width=\"700\">\n"
   ]
  },
  {
   "cell_type": "markdown",
   "id": "b6241eba",
   "metadata": {},
   "source": [
    "## Uniones\n",
    "\n",
    "### Clavos\n",
    "\n",
    "<img src=\"../figuras/union_clavos.jpg\" width=\"400\">\n",
    "\n",
    "### Tornillos\n",
    "\n",
    "<img src=\"../figuras/union_tornillo.jpg\" width=\"400\">\n",
    "\n",
    "### Grapas\n",
    "\n",
    "<img src=\"../figuras/union_grapas.jpg\" width=\"400\">\n",
    "\n",
    "### Conectores y Pletinas\n",
    "\n",
    "<img src=\"../figuras/union_placas.jpg\" width=\"400\">\n"
   ]
  },
  {
   "cell_type": "markdown",
   "id": "a9ea78bd",
   "metadata": {},
   "source": [
    "## Tipos de estructuras\n",
    "\n",
    "### Entramado Horizontal\n",
    "\n",
    "<img src=\"../figuras/entramado_hzt.jpg\" width=\"500\">\n",
    "\n",
    "### Entramado Vertical\n",
    "\n",
    "<img src=\"../figuras/entramado_vtl.jpg\" width=\"500\">\n",
    "\n",
    "### Techumbre\n",
    "\n",
    "<img src=\"../figuras/techumbre.jpg\" width=\"500\">"
   ]
  },
  {
   "cell_type": "code",
   "execution_count": null,
   "id": "341eb2aa",
   "metadata": {},
   "outputs": [],
   "source": []
  }
 ],
 "metadata": {
  "kernelspec": {
   "display_name": "Python 3 (ipykernel)",
   "language": "python",
   "name": "python3"
  },
  "language_info": {
   "codemirror_mode": {
    "name": "ipython",
    "version": 3
   },
   "file_extension": ".py",
   "mimetype": "text/x-python",
   "name": "python",
   "nbconvert_exporter": "python",
   "pygments_lexer": "ipython3",
   "version": "3.7.15"
  }
 },
 "nbformat": 4,
 "nbformat_minor": 5
}
