{
 "cells": [
  {
   "cell_type": "markdown",
   "id": "5b87c0da",
   "metadata": {},
   "source": [
    "<img src=\"../figuras/terminacion_vertical.jpg\" width=\"400\">\n",
    "\n",
    "\n",
    "\n",
    "# Revestimientos Verticales\n",
    "\n",
    "\n",
    "\n",
    "<img src=\"../figuras/indiceRVt.png\" width=\"1000\">\n"
   ]
  },
  {
   "cell_type": "markdown",
   "id": "d8503fc1",
   "metadata": {},
   "source": [
    "### Revestimiento exterior\n",
    "\n",
    "Se utiliza principalmente para revestimientos exteriores.\n",
    "\n",
    "- Fibrocemento.\n",
    "\n",
    "<img src=\"../figuras/terminacion_fibrocemento.jpg\" width=\"300\">\n",
    "\n",
    "- Estucos de mortero de cemento.\n",
    "\n",
    "<img src=\"../figuras/terminacion_estucos.jpg\" width=\"300\">\n",
    "\n",
    "- Madera.\n",
    "\n",
    "<img src=\"../figuras/terminacion_madera.jpg\" width=\"300\">\n",
    "\n",
    "- Revestimientos metálicos.\n",
    "\n",
    "<img src=\"../figuras/terminacion_Met.jpg\" width=\"300\">\n",
    "\n",
    "- PVC (Siding).\n",
    "\n",
    "<img src=\"../figuras/terminacion_PVC.jpg\" width=\"300\">\n",
    "\n",
    "- Cerámicos.\n",
    "\n",
    "<img src=\"../figuras/terminacion_ceramicos.jpg\" width=\"300\">\n",
    "\n",
    "- Enchapes.\n",
    "\n",
    "<img src=\"../figuras/terminacion_Enchapes.jpg\" width=\"300\">\n",
    "\n",
    "- Pinturas.\n",
    "\n",
    "<img src=\"../figuras/terminacion_Pinturas.jpg\" width=\"300\">\n"
   ]
  },
  {
   "cell_type": "markdown",
   "id": "adfcea05",
   "metadata": {},
   "source": [
    "### Revestimiento interior\n",
    "\n",
    "Se utiliza principalmente para revestimientos interiores.\n",
    "\n",
    "- Pinturas.\n",
    "\n",
    "<img src=\"../figuras/terminacion_PinturasI.jpg\" width=\"300\">\n",
    "\n",
    "- Cerámicas - porcelanato.\n",
    "\n",
    "<img src=\"../figuras/terminacion_ceramicasI.jpg\" width=\"300\">\n",
    "\n",
    "- Papel mural.\n",
    "\n",
    "<img src=\"../figuras/terminacion_PM.jpg\" width=\"300\">\n",
    "\n",
    "- Madera.\n",
    "\n",
    "<img src=\"../figuras/terminacion_MaderaI.jpg\" width=\"300\">\n",
    "\n"
   ]
  },
  {
   "cell_type": "code",
   "execution_count": null,
   "id": "d72463fe",
   "metadata": {},
   "outputs": [],
   "source": [
    "from IPython.display import YouTubeVideo\n",
    "\n",
    "YouTubeVideo(\"oF36Tb0aIA4\")"
   ]
  },
  {
   "cell_type": "markdown",
   "id": "116b2762",
   "metadata": {},
   "source": [
    "- Planchas de terminación\n",
    "   - Planchas de yeso - cartón.\n",
    "   \n",
    "   <img src=\"../figuras/terminacion_YC.jpg\" width=\"400\">\n",
    "   \n",
    "   - Planchas de terciado estructural.\n",
    "   \n",
    "   <img src=\"../figuras/terminacion_TE.jpg\" width=\"400\">\n",
    "   \n",
    "   - Planchas de fibrocemento.\n",
    "   \n",
    "   <img src=\"../figuras/terminacion_PF.jpg\" width=\"400\">"
   ]
  },
  {
   "cell_type": "code",
   "execution_count": null,
   "id": "db490583",
   "metadata": {},
   "outputs": [],
   "source": [
    "from IPython.display import YouTubeVideo\n",
    "\n",
    "YouTubeVideo(\"68ZEJiPfhTM\")"
   ]
  }
 ],
 "metadata": {
  "kernelspec": {
   "display_name": "Python 3 (ipykernel)",
   "language": "python",
   "name": "python3"
  },
  "language_info": {
   "codemirror_mode": {
    "name": "ipython",
    "version": 3
   },
   "file_extension": ".py",
   "mimetype": "text/x-python",
   "name": "python",
   "nbconvert_exporter": "python",
   "pygments_lexer": "ipython3",
   "version": "3.7.15"
  }
 },
 "nbformat": 4,
 "nbformat_minor": 5
}
