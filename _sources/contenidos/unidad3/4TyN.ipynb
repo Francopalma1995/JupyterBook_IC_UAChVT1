{
 "cells": [
  {
   "cell_type": "markdown",
   "id": "d71c29c1",
   "metadata": {},
   "source": [
    "<img src=\"../figuras/trazado_niv.png\" width=\"700\">\n",
    "\n",
    "\n",
    "\n",
    "# Trazado y niveles\n",
    "\n",
    "El trabajo de esta partida consiste en la tarea de replantear, lo que implica traspasar la información que de los planos, y plasmarlo en el terreno con el fin de emplazar la obra (Solminiac & Thenoux, 1998).\n",
    "\n",
    "Para ellos se requieren elementos, como cercos de madera y equipos de topografía como niveles y/o taquímetros. Con todos estos elementos que nos permiten replantear nuestro proyecto de construcción en forma planimétrica y altimétrica (ONDAC, 2016).\n"
   ]
  },
  {
   "cell_type": "code",
   "execution_count": 2,
   "id": "6913d627",
   "metadata": {},
   "outputs": [
    {
     "data": {
      "image/jpeg": "[encoded data removed]",
      "text/html": [
       "\n",
       "        <iframe\n",
       "            width=\"400\"\n",
       "            height=\"300\"\n",
       "            src=\"https://www.youtube.com/embed/IPOwYBm2DTU\"\n",
       "            frameborder=\"0\"\n",
       "            allowfullscreen\n",
       "            \n",
       "        ></iframe>\n",
       "        "
      ],
      "text/plain": [
       "<IPython.lib.display.YouTubeVideo at 0x20a7111f108>"
      ]
     },
     "execution_count": 2,
     "metadata": {},
     "output_type": "execute_result"
    }
   ],
   "source": [
    "from IPython.display import YouTubeVideo\n",
    "\n",
    "YouTubeVideo(\"IPOwYBm2DTU\")"
   ]
  },
  {
   "cell_type": "markdown",
   "id": "dd5ac657",
   "metadata": {},
   "source": [
    "\n",
    "Manual Práctico de Construcción [Lpchile](https://lpchile.cl/wp-content/uploads/2017/08/01_EMPLAZAMIENTOS-21_32.pdf)"
   ]
  },
  {
   "cell_type": "markdown",
   "id": "aab166ba",
   "metadata": {},
   "source": [
    "\n",
    "<img src=\"../figuras/indice4TyN.png \" width=\"700\">\n",
    "\n",
    "\n",
    "\n",
    "\n",
    "## Emplazamiento:\n",
    "\n",
    "Antes de iniciar cualquier trabajo, se determinará la ubicación exacta de cada elemento que forme parte del proyecto para realizar el trazado.\n",
    "\n",
    "<img src=\"../figuras/trazado.jpg\">\n"
   ]
  },
  {
   "cell_type": "markdown",
   "id": "6325d624",
   "metadata": {},
   "source": [
    "## Trazado:\n",
    "\n",
    "Los ejes de referencia se establecerán de acuerdo con la ubicación y se utilizarán como guía para ubicar con precisión la estructura.\n",
    "\n",
    "<img src=\"../figuras/emplazamiento.png\" width=\"700\">\n",
    "\n"
   ]
  },
  {
   "cell_type": "markdown",
   "id": "689fda06",
   "metadata": {},
   "source": [
    "\n",
    "\n",
    "<img src=\"../figuras/registro_1.png\" width=\"400\">\n",
    "\n",
    "\n",
    "\n",
    "## Lista de Verificación Trazado y Niveles.\n",
    "\n",
    "\n",
    "\n",
    "<img src=\"../figuras/l_v_tyn.png\">\n",
    "\n",
    "<cite data-cite=\"Almonacid2020you3\">(Almonacid,2020)</cite>\n"
   ]
  },
  {
   "cell_type": "markdown",
   "id": "c1171309",
   "metadata": {},
   "source": [
    "## Protocolo de Recepción Trazado y Niveles.\n",
    "\n",
    "\n",
    "\n",
    "<img src=\"../figuras/p_v_tyn.png\">\n",
    "\n",
    "<cite data-cite=\"Almonacid2020you3\">(Almonacid,2020)</cite>\n"
   ]
  }
 ],
 "metadata": {
  "kernelspec": {
   "display_name": "Python 3 (ipykernel)",
   "language": "python",
   "name": "python3"
  },
  "language_info": {
   "codemirror_mode": {
    "name": "ipython",
    "version": 3
   },
   "file_extension": ".py",
   "mimetype": "text/x-python",
   "name": "python",
   "nbconvert_exporter": "python",
   "pygments_lexer": "ipython3",
   "version": "3.7.15"
  }
 },
 "nbformat": 4,
 "nbformat_minor": 5
}
