{
 "cells": [
  {
   "cell_type": "markdown",
   "id": "d71c29c1",
   "metadata": {},
   "source": [
    "Se realizan los trabajos preliminares para preparar el terreno donde se construirá el edificio.\n",
    "\n",
    "\n",
    "# Limpieza y desbroce\n",
    "\n",
    "Es necesario remover la vegetación hasta obtener una superficie libre de obstáculos para facilitar la realización de las actividades debido a que el terreno donde típicamente se construirá la obra está cubierto de malezas u otros materiales que afectan el proceso de construcción más tarde.\n",
    "\n",
    "A veces hay estructuras edificadas en el terreno, por lo que se requiere demolición para limpiar el área (Stozitzky & Prieto, 1989).\n",
    "\n",
    "> Limpieza y desbroce\n",
    "\n",
    "\n",
    "<img src=\"../figuras/limpiezaydesbroce.png\" width=\"700\">\n",
    "\n",
    "\n",
    "> Demolición\n",
    "\n",
    "\n",
    "<img src=\"../figuras/limpiezaydesbroce2.png\" width=\"700\">\n",
    "\n"
   ]
  },
  {
   "cell_type": "code",
   "execution_count": null,
   "id": "164db19d",
   "metadata": {},
   "outputs": [],
   "source": []
  }
 ],
 "metadata": {
  "kernelspec": {
   "display_name": "Python 3 (ipykernel)",
   "language": "python",
   "name": "python3"
  },
  "language_info": {
   "codemirror_mode": {
    "name": "ipython",
    "version": 3
   },
   "file_extension": ".py",
   "mimetype": "text/x-python",
   "name": "python",
   "nbconvert_exporter": "python",
   "pygments_lexer": "ipython3",
   "version": "3.7.15"
  }
 },
 "nbformat": 4,
 "nbformat_minor": 5
}
