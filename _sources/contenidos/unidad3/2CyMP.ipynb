{
 "cells": [
  {
   "cell_type": "markdown",
   "id": "d71c29c1",
   "metadata": {},
   "source": [
    "# Cierros y medidas de protección\n",
    "\n",
    "\n",
    "El propósito de esta actividad es asegurar y aislar el área de servidumbre donde se realizará el trabajo. Se trata de delimitar el sitio donde se llevará a cabo la construcción. Se prohíbe el ingreso de personal no autorizado, vehículos motorizados y equipos externos al lugar de trabajo, con el fin de brindar seguridad y mantener el control del resinto (Cevallos, 2016).\n",
    "\n",
    "Regulados bajo la norma [NCh 348of 1999](https://miros.cl/wp-content/uploads/2015/03/NCh0348-1999.pdf)\n",
    "\n",
    "\n",
    "<img src=\"../figuras/cierros.jpeg\" width=\"700\">\n",
    "\n",
    "> El cierre provisorio debe dar garantía de seguridad y resistencia, tener una altura mínima de 2 m y tener listones de pino de 2x3\" en la parte inferior y superior reforzados con diagonales, placas de osb o malla raschel con porcentaje de sombra, poste de madera de 3 a 4 pulgadas separado segun determine profesional habilitado.\n",
    "\n"
   ]
  },
  {
   "cell_type": "code",
   "execution_count": null,
   "id": "84197248",
   "metadata": {},
   "outputs": [],
   "source": []
  }
 ],
 "metadata": {
  "kernelspec": {
   "display_name": "Python 3 (ipykernel)",
   "language": "python",
   "name": "python3"
  },
  "language_info": {
   "codemirror_mode": {
    "name": "ipython",
    "version": 3
   },
   "file_extension": ".py",
   "mimetype": "text/x-python",
   "name": "python",
   "nbconvert_exporter": "python",
   "pygments_lexer": "ipython3",
   "version": "3.7.15"
  }
 },
 "nbformat": 4,
 "nbformat_minor": 5
}
