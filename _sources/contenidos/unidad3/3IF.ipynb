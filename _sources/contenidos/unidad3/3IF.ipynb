{
 "cells": [
  {
   "cell_type": "markdown",
   "id": "d71c29c1",
   "metadata": {},
   "source": [
    "# Instalación de Faena\n",
    "\n",
    "\n",
    "Estas instalaciones son esenciales para albergar a los trabajadores, equipos, suministros y materiales de construcción (Cevallos, 2016).\n",
    "\n",
    "Son estructuras de corta duración, típicamente de madera, pero ocasionalmente de metal, con el objetivo de ofrecer servicios como alojamiento para trabajadores, servicios sanitarios, oficinas para personal especializado, enfermería, almacenes, comedores, laboratorios, entre otros (Stozitzky & Prieto,1989).\n",
    "\n",
    "\n",
    "Incluye todas las construcciones e instalaciones provisorias para el correcto desarrollo de las faenas, debiendo garantizar el normal funcionamiento de las actividades dentro del reciento. \n",
    " \n",
    "\n",
    "<img src=\"../figuras/instalacion_faena.png\" width=\"700\">\n",
    "\n",
    "([Lpchile](https://lpchile.cl/wp-content/uploads/2017/08/01_EMPLAZAMIENTOS-21_32.pdf), 2017)\n",
    "\n"
   ]
  },
  {
   "cell_type": "code",
   "execution_count": null,
   "id": "098f682a",
   "metadata": {},
   "outputs": [],
   "source": []
  }
 ],
 "metadata": {
  "kernelspec": {
   "display_name": "Python 3 (ipykernel)",
   "language": "python",
   "name": "python3"
  },
  "language_info": {
   "codemirror_mode": {
    "name": "ipython",
    "version": 3
   },
   "file_extension": ".py",
   "mimetype": "text/x-python",
   "name": "python",
   "nbconvert_exporter": "python",
   "pygments_lexer": "ipython3",
   "version": "3.7.15"
  }
 },
 "nbformat": 4,
 "nbformat_minor": 5
}
