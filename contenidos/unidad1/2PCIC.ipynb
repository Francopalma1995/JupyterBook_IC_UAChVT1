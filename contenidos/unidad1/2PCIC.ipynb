{
 "cells": [
  {
   "cell_type": "markdown",
   "id": "d71c29c1",
   "metadata": {},
   "source": [
    "\n",
    "\n",
    "# Principales características de la industria de la construcción\n",
    "\n",
    "\n",
    "En su estudio \"Procesos y técnicas de construcción\", Solminiac y Thenoux (1998) mencionan que la industria de la construcción se diferencia de la industria manufacturera en general en varios aspectos, los más significativos de los cuales podemos mencionar.\n",
    "\n",
    "\n",
    "<img src=\"../figuras/caracteristicas.jpg\" width=\"700\">\n",
    "\n",
    "\n"
   ]
  },
  {
   "cell_type": "markdown",
   "id": "e549cec3",
   "metadata": {},
   "source": [
    "En primer lugar, la industria de la construcción se desarrolla por etapas, los que significa que los proyectos constructivos se desarrollan mediante una serie de actividades secuenciales definidas en un periodo de tiempo, el cual suele ser breve, por lo que se generan circunstancias desafiantes en la gestión de planificación, ejecución y finalización del mismo. En consecuencia de lo anterior, la permanencia de la fuente de trabajo suele ser baja, debido a la extensión y variedad de los requerimientos de mano de obra para cada fase de ejecución, el cambio que existe de capital de trabajo es permanente a lo largo de la obra. \n",
    "Estas características generan que los avances de las actividades sean tangibles y se puedan medir, de manera que, se puede estudiar el cumplimiento de la obra en tiempo real y gestionar los diferentes indicadores de cumplimiento de las metas.\n",
    "Por otro lado, dependiendo de la ubicación de la obra, las actividades de ejecución van a tener diferentes factores que influyen en el desarrollo de la obra. El principal factor es el clima, ya que afecta directamente a la satisfacción, productividad y seguridad de los colaboradores. En conjunto con lo anterior, que las obras se desarrollen en diferentes ambientes, genera de manera directa la movilidad del lugar de trabajo, ya que es inevitable la transferencia de la fuerza de trabajo de un lugar a otro dependiendo de las necesidades.\n",
    "Finalmente, la seguridad y salud ocupacional en una obra de construcción juega un rol fundamental, ya que al realizarse trabajos de manera manual, las medidas de seguridad deben ser rígidas y estar en constante actualización.\n"
   ]
  },
  {
   "cell_type": "code",
   "execution_count": null,
   "id": "4591b9b5",
   "metadata": {},
   "outputs": [],
   "source": []
  }
 ],
 "metadata": {
  "kernelspec": {
   "display_name": "Python 3 (ipykernel)",
   "language": "python",
   "name": "python3"
  },
  "language_info": {
   "codemirror_mode": {
    "name": "ipython",
    "version": 3
   },
   "file_extension": ".py",
   "mimetype": "text/x-python",
   "name": "python",
   "nbconvert_exporter": "python",
   "pygments_lexer": "ipython3",
   "version": "3.7.15"
  }
 },
 "nbformat": 4,
 "nbformat_minor": 5
}
