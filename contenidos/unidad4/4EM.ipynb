{
 "cells": [
  {
   "cell_type": "markdown",
   "id": "d71c29c1",
   "metadata": {},
   "source": [
    "<img src=\"../figuras/estructura_MM.png\" width=\"700\">\n",
    "\n",
    "\n",
    "# Estructura Metálica\n",
    "\n",
    "Es frecuentemente utilizado para la elaboración de marcos rígidos, columnas y vigas, para la edificación que posee varios niveles, las columnas de acero, son malos elementos estructurales cuando trabajan por si solo y son inadecuados para recibir fuerzas laterales, por lo que necesita anclajes superiores he inferior conectándose entre sí por medio de vigas metálicas, trabajando como sistema de agarre entre los elementos verticales (Cevallos, 2016).\n",
    "\n",
    "\n",
    "<img src=\"../figuras/indiceEM.png\" width=\"1000\">\n"
   ]
  },
  {
   "cell_type": "markdown",
   "id": "121bdd24",
   "metadata": {},
   "source": [
    "\n",
    "## Tipos de Acero\n",
    "\n",
    "\n",
    "Sauza (2014), en su investigación *''Proyecto de una estructura metalica para cancha deportiva''*  mencionas que las siguientes variedades de acero se pueden utilizar para crear perfiles para estructuras de acero.\n",
    "\n",
    "- Aceros laminados en caliente\n",
    "\n",
    "Se entiende por tales, a aceros no aleados con una microestructura típica, sin características especiales de resistencia mecánica o resistencia a la corrosión.\n",
    "\n",
    "- Aceros con estructuras especiales\n",
    "\n",
    "    a. Aceros normalizados de grano fino para construcción soldada.\n",
    "    b. Aceros de laminado termo mecánico de grano fino para construcción soldada.\n",
    "    c. Aceros con resistencia mejorada a la corrosión atmosférica.\n",
    "    d. Aceros templados y revenidos.\n",
    "    e. Aceros con resistencia mejorada a la deformación en la dirección perpendicular a la superficie del proyecto.\n",
    "    \n",
    "- Aceros conformados en frio \n",
    "\n",
    "Se entiende por tales aceros cuyo método de fabricación consiste en el conformado en frío, lo que les confiere unas cualidades únicas en cuanto a la sección y resistencia mecánica.\n",
    "\n",
    "\n",
    "### Perfiles Plegados\n",
    "\n",
    "<img src=\"../figuras/perfiles_plegados.jpg\" width=\"700\">\n",
    "\n",
    "\n",
    "### Perfiles soldados\n",
    "\n",
    "<img src=\"../figuras/perfiles_soldados.png\" width=\"700\">\n",
    "\n",
    "### Secciones combinadas\n",
    "\n",
    "Los perfiles se pueden plegar o soldar para crearlos.\n",
    "\n",
    "### Secciones compuestas\n",
    "\n",
    "<img src=\"../figuras/secciones_combinadas.png\" width=\"700\">\n",
    "\n",
    "\n",
    "[Construyendoseguro](https://www.construyendoseguro.com/tipos-de-perfiles-estructurales-y-tipos-de-estructuras-de-acero/)"
   ]
  },
  {
   "cell_type": "markdown",
   "id": "8395f0b3",
   "metadata": {},
   "source": [
    "## Tipo de Uniones\n",
    "\n",
    "<img src=\"../figuras/tipos_uniones.jpg\" width=\"700\">\n",
    "\n",
    "### Uniones con soldadura\n",
    "\n",
    "<img src=\"../figuras/estructura_soldadas.jpg\" width=\"700\">\n",
    "\n",
    "*Estrutura metalica soldada*\n",
    "\n",
    "\n",
    "<img src=\"../figuras/uniones_soldadas.jpg\" width=\"700\">\n",
    "\n",
    "\n",
    "### Conexiones apernadas\n",
    "\n",
    "<img src=\"../figuras/uniones_apernadas.jpg\" width=\"700\">\n",
    "\n",
    "*Estructura metalica apernada*\n",
    "\n",
    "\n",
    "<img src=\"../figuras/estructura_apernada.jpg\" width=\"700\">\n"
   ]
  },
  {
   "cell_type": "markdown",
   "id": "ef57a983",
   "metadata": {},
   "source": [
    "\n",
    "\n",
    "## Tipos de Perfiles\n",
    "\n",
    "<img src=\"../figuras/tipo_perfiles.png\" width=\"700\">"
   ]
  },
  {
   "cell_type": "markdown",
   "id": "7294f030",
   "metadata": {},
   "source": [
    "\n",
    "\n",
    "## Tipos de estructuras de acero\n",
    "\n",
    "<img src=\"../figuras/tipo_estructura.png\" width=\"700\">"
   ]
  },
  {
   "cell_type": "code",
   "execution_count": null,
   "id": "4b8abcbd",
   "metadata": {},
   "outputs": [],
   "source": [
    "from IPython.display import YouTubeVideo\n",
    "\n",
    "YouTubeVideo(\"IAqHNzZ7JNQ\")"
   ]
  }
 ],
 "metadata": {
  "kernelspec": {
   "display_name": "Python 3 (ipykernel)",
   "language": "python",
   "name": "python3"
  },
  "language_info": {
   "codemirror_mode": {
    "name": "ipython",
    "version": 3
   },
   "file_extension": ".py",
   "mimetype": "text/x-python",
   "name": "python",
   "nbconvert_exporter": "python",
   "pygments_lexer": "ipython3",
   "version": "3.7.15"
  }
 },
 "nbformat": 4,
 "nbformat_minor": 5
}
