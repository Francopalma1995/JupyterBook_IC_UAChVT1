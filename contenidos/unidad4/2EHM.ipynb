{
 "cells": [
  {
   "cell_type": "markdown",
   "id": "d71c29c1",
   "metadata": {},
   "source": [
    "# Moldajes\n",
    "\n",
    "\n",
    "Dado que en Chile no existe una norma nacional para encofrados, debemos confiar en los requisitos técnicos, proyectos y diseños de los proveedores, los cuales se basan en las normas del país de origen de los equipos. Un sistema de moldaje es un conjunto de componentes dispuestos de manera que puedan moldear hormigón fresco dentro de las tolerancias necesarias. Es una estructura temporal que puede soportar su propio peso, el concreto fresco, así como las sobrecargas especificadas de personas, herramientas y otros elementos. Se pueden dividir en categorías según su uso previsto, como moldaje para muros, pilares, vigas y losas; su material de fabricación, tales como moldaje de madera, metálicas, mixtas y de otros materiales; y su modo de funcionamiento, como moldaje manejable solo con grúa, autotrepante, deslizante y colaborativo ([CChC](https://cchc.cl/uploads/archivos/archivos/Manual-de-Moldajes_-CChC_enero_2014.pdf), 2014).\n",
    "\n",
    "\n",
    "\n",
    "<img src=\"../figuras/moldaje_madera.jpg\" width=\"700\">\n",
    "\n",
    "*Moldaje de madera*\n",
    "\n",
    "<img src=\"../figuras/moldaje_Met.jpg\" width=\"700\">\n",
    "\n",
    "*Moldaje metalico*\n",
    "\n",
    "<img src=\"../figuras/moldaje_M.jpg\" width=\"700\">\n",
    "\n",
    "*Panel metalico para equipo de levante*\n",
    "\n",
    "\n",
    "\n",
    "<img src=\"../figuras/indiceMold.png\" width=\"1000\">"
   ]
  },
  {
   "cell_type": "markdown",
   "id": "81ac7d3e",
   "metadata": {},
   "source": [
    "## Diagrama de Flujo – “Trazado de Muros y Pilares”\n",
    "\n",
    "\n",
    "<img src=\"../figuras/trazado_MyP.png\">\n",
    "\n",
    "<cite data-cite=\"vega2018you3\">(Vega,2018)</cite>\n",
    "\n",
    "\n",
    "\n",
    "<img src=\"../figuras/fundacion_procesos5.png\">\n"
   ]
  },
  {
   "cell_type": "markdown",
   "id": "a5529abf",
   "metadata": {},
   "source": [
    "## Moldaje de Muro\n",
    "\n",
    "\n",
    "###  Diagrama de Flujo – “Moldaje en Muros”\n",
    "\n",
    "\n",
    "<img src=\"../figuras/moldaje_Muro1.png\">\n",
    "\n",
    "<img src=\"../figuras/moldaje_Muro2.png\">\n",
    "\n",
    "<img src=\"../figuras/moldaje_Muro3.png\">\n",
    "\n",
    "<img src=\"../figuras/moldaje_Muro4.png\">\n",
    "\n",
    "<img src=\"../figuras/moldaje_Muro5.png\">\n",
    "\n",
    "<img src=\"../figuras/moldaje_Muro6.png\">\n",
    "\n",
    "\n",
    "<cite data-cite=\"vega2018you3\">(Vega,2018)</cite>"
   ]
  },
  {
   "cell_type": "markdown",
   "id": "80205cd9",
   "metadata": {},
   "source": [
    "## Moldaje de Pilar\n",
    "\n",
    "\n",
    "<img src=\"../figuras/moldaje_pilar.jpg\" width=\"700\">\n",
    "\n",
    "\n",
    "### Diagrama de Flujo – “Moldaje en Pilares”\n",
    "\n",
    "<img src=\"../figuras/moldaje_Pilar1.png\">\n",
    "\n",
    "<img src=\"../figuras/moldaje_Pilar2.png\">\n",
    "\n",
    "<img src=\"../figuras/moldaje_Pilar3.png\">\n",
    "\n",
    "<img src=\"../figuras/moldaje_Pilar4.png\">\n",
    "\n",
    "\n",
    "<cite data-cite=\"vega2018you3\">(Vega,2018)</cite>\n",
    "\n",
    "\n"
   ]
  },
  {
   "cell_type": "code",
   "execution_count": 1,
   "id": "e9c613a9",
   "metadata": {},
   "outputs": [
    {
     "data": {
      "image/jpeg": "[encoded data removed]",
      "text/html": [
       "\n",
       "        <iframe\n",
       "            width=\"400\"\n",
       "            height=\"300\"\n",
       "            src=\"https://www.youtube.com/embed/6wNBbPBOu0A\"\n",
       "            frameborder=\"0\"\n",
       "            allowfullscreen\n",
       "            \n",
       "        ></iframe>\n",
       "        "
      ],
      "text/plain": [
       "<IPython.lib.display.YouTubeVideo at 0x22ec54408c8>"
      ]
     },
     "execution_count": 1,
     "metadata": {},
     "output_type": "execute_result"
    }
   ],
   "source": [
    "from IPython.display import YouTubeVideo\n",
    "\n",
    "YouTubeVideo(\"6wNBbPBOu0A\")"
   ]
  },
  {
   "cell_type": "markdown",
   "id": "67b5c22a",
   "metadata": {},
   "source": [
    "## Moldaje de Viga\n",
    "\n",
    "\n",
    "<img src=\"../figuras/moldaje_viga.jpg\" width=\"700\">\n",
    "\n",
    "\n",
    "### Diagrama de Flujo – “Trazado de Vigas – Moldaje”\n",
    "\n",
    "<img src=\"../figuras/trazado_V.png\">\n",
    "\n",
    "<cite data-cite=\"vega2018you3\">(Vega,2018)</cite>\n",
    "\n",
    "\n",
    "### Diagrama de Flujo – “Moldaje en Vigas”\n",
    "\n",
    "\n",
    "<img src=\"../figuras/moldaje_Viga1.png\">\n",
    "\n",
    "<img src=\"../figuras/moldaje_Viga2.png\">\n",
    "\n",
    "<img src=\"../figuras/moldaje_Viga3.png\">\n",
    "\n",
    "<img src=\"../figuras/moldaje_Viga4.png\">\n",
    "\n",
    "<cite data-cite=\"vega2018you3\">(Vega,2018)</cite>\n",
    "\n",
    "\n",
    "\n",
    "\n"
   ]
  },
  {
   "cell_type": "markdown",
   "id": "69d5f9db",
   "metadata": {},
   "source": [
    "## Moldaje de Losa de Cielo\n",
    "\n",
    "\n",
    "<img src=\"../figuras/moldaje_cielo.jpg\" width=\"700\">\n",
    "\n",
    "\n",
    "### Diagrama de Flujo – “Moldaje en Losa de Cielo”\n",
    "\n",
    "\n",
    "<img src=\"../figuras/moldaje_LC1.png\">\n",
    "\n",
    "\n",
    "<img src=\"../figuras/moldaje_LC2.png\">\n",
    "\n",
    "\n",
    "<img src=\"../figuras/moldaje_LC3.png\">\n",
    "\n",
    "\n",
    "<img src=\"../figuras/moldaje_LC4.png\">\n",
    "\n",
    "\n",
    "<cite data-cite=\"vega2018you3\">(Vega,2018)</cite>\n",
    "\n",
    "\n"
   ]
  },
  {
   "cell_type": "code",
   "execution_count": 1,
   "id": "3efd3484",
   "metadata": {},
   "outputs": [
    {
     "data": {
      "image/jpeg": "[encoded data removed]",
      "text/html": [
       "\n",
       "        <iframe\n",
       "            width=\"400\"\n",
       "            height=\"300\"\n",
       "            src=\"https://www.youtube.com/embed/cy9-MIEVAtU\"\n",
       "            frameborder=\"0\"\n",
       "            allowfullscreen\n",
       "            \n",
       "        ></iframe>\n",
       "        "
      ],
      "text/plain": [
       "<IPython.lib.display.YouTubeVideo at 0x2207cfda0c8>"
      ]
     },
     "execution_count": 1,
     "metadata": {},
     "output_type": "execute_result"
    }
   ],
   "source": [
    "from IPython.display import YouTubeVideo\n",
    "\n",
    "YouTubeVideo(\"cy9-MIEVAtU\")"
   ]
  },
  {
   "cell_type": "markdown",
   "id": "84f5e761",
   "metadata": {},
   "source": [
    "<img src=\"../figuras/registro_6.png\" width=\"400\">\n",
    "\n",
    "\n",
    "## Lista de Verificación Moldaje Fundación, Muro y Pilar\n",
    "\n",
    "<img src=\"../figuras/l_v_MFMP.png\">\n",
    "\n",
    "<cite data-cite=\"Almonacid2020you3\">(Almonacid,2020)</cite>\n",
    "\n",
    "\n"
   ]
  },
  {
   "cell_type": "markdown",
   "id": "40cbf2f5",
   "metadata": {},
   "source": [
    "## Lista de Verificación de Moldaje de Losa y Capitel (Utilización de Puntales Individuales)\n",
    "\n",
    "<img src=\"../figuras/l_v_MLyC.png\">\n",
    "\n",
    "<cite data-cite=\"Almonacid2020you3\">(Almonacid,2020)</cite>\n",
    "\n",
    "\n"
   ]
  },
  {
   "cell_type": "markdown",
   "id": "ffadb0a9",
   "metadata": {},
   "source": [
    "## Lista de Verificación de Moldaje de Losa (Utilización de Torre de Carga)\n",
    "\n",
    "<img src=\"../figuras/l_v_ML.png\">\n",
    "\n",
    "<cite data-cite=\"Almonacid2020you3\">(Almonacid,2020)</cite>\n",
    "\n"
   ]
  },
  {
   "cell_type": "markdown",
   "id": "3f890a3d",
   "metadata": {},
   "source": [
    "## Protocolo de Recepción de Moldaje\n",
    "\n",
    "\n",
    "<img src=\"../figuras/p_r_m.png\">\n",
    "\n",
    "<cite data-cite=\"Almonacid2020you3\">(Almonacid,2020)</cite>\n"
   ]
  }
 ],
 "metadata": {
  "kernelspec": {
   "display_name": "Python 3 (ipykernel)",
   "language": "python",
   "name": "python3"
  },
  "language_info": {
   "codemirror_mode": {
    "name": "ipython",
    "version": 3
   },
   "file_extension": ".py",
   "mimetype": "text/x-python",
   "name": "python",
   "nbconvert_exporter": "python",
   "pygments_lexer": "ipython3",
   "version": "3.7.15"
  }
 },
 "nbformat": 4,
 "nbformat_minor": 5
}
