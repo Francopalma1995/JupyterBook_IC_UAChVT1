{
 "cells": [
  {
   "cell_type": "markdown",
   "id": "8d991e74",
   "metadata": {},
   "source": [
    "<img src=\"../figuras/Aislantes.jpg\" width=\"700\">\n",
    "\n",
    "\n",
    "# Aislaciones"
   ]
  },
  {
   "cell_type": "markdown",
   "id": "761f7d8c",
   "metadata": {},
   "source": [
    "\n",
    "\n",
    "<img src=\"../figuras/indiceAlte.png\" width=\"1000\">\n"
   ]
  },
  {
   "cell_type": "markdown",
   "id": "76697029",
   "metadata": {},
   "source": [
    "## Tipos de Aislación\n",
    "\n",
    "\n",
    "### Aislación Termica\n",
    "\n",
    "A pesar de las condiciones exteriores, el propósito principal de los cerramientos de un edificio es mantener las condiciones interiores. El intercambio de calor reducido entre el interior y el exterior permitirá que las paredes desempeñen el papel de aislamiento térmico, que es una forma de lograrlo.\n",
    "\n",
    "<img src=\"../figuras/aislacion_termica.jpg\" width=\"700\">\n",
    "\n",
    "\n",
    "### Aislación Acustica\n",
    "\n",
    "El principal objetivo del aislamiento acústico es detener o ralentizar la transmisión del ruido. La insonorización efectiva se mide por tres factores: aislamiento del ruido exterior del interior del edificio, reducción de la transmisión del sonido de una habitación a otra dentro del edificio y prevención de la transmisión del sonido al exterior en caso de aumento de las emisiones de ruido en el interior del edificio. Se puede distinguir entre ruido aéreo y ruido transmitido por estructuras\n",
    "y ruido de impacto.\n",
    "\n",
    "[El silencio es poder](https://www.knauf.cl/beneficio/6-aislacion-acustica)\n",
    "\n",
    "<img src=\"../figuras/aislacion_acustica.jpg\" width=\"700\">\n",
    "\n",
    "### Barreras de Humedad y Vapor\n",
    "\n",
    "Cualquier material o lámina que ofrezca una fuerte resistencia al paso de la humedad y el agua se denomina barrera contra la humedad. Las barreras contra la humedad se utilizan para proteger contra el mal tiempo y sirven como barrera contra la entrada de viento y agua en el interior de un edificio ([Volcan](https://volcan.cl/barrera-de-humedad-y-sus-principales-funciones/),2022).\n",
    "\n",
    "<img src=\"../figuras/barrera_humedad.jpg\" width=\"700\">\n",
    "\n",
    "\n",
    "### Impermeabilizantes\n",
    "\n",
    "Los impermeabilizantes son sustancias hechas de resinas, fibra de vidrio, emulsiones, polímeros y otros materiales que se aplican a una superficie para evitar que el agua u otros líquidos penetren.\n",
    "Para evitar filtraciones y aislar el agua o el vapor de agua para mantener superficies secas, se suelen utilizar en el revestimiento de cubiertas, terrazas, balcones, depósitos, sótanos, cisternas, piscinas, jardineras o cimientos ([Mapei](https://www.mapei.com/mx/es-mx/blog/detalles/articulos/2021/09/25/impermeabilizante#que), 2021)\n",
    "\n",
    "<img src=\"../figuras/impermeabilizante.jpg\" width=\"700\">\n",
    "\n"
   ]
  },
  {
   "cell_type": "markdown",
   "id": "84c6b889",
   "metadata": {},
   "source": [
    "## Usos\n",
    "\n",
    "### En fundaciones\n",
    "\n",
    "La impermeabilización evita la infiltración de humedad y el poliestireno detiene la pérdida de calor, protegiendo los cimientos tanto de la humedad como de la temperatura.\n",
    "\n",
    "### Cubierta\n",
    "\n",
    "La lana mineral, el vidrio aislante, el poliestireno y una membrana impermeable conocida como fieltro se utilizan para aislar el techo de la temperatura, la condensación, las plagas y el ruido.\n",
    "\n",
    "### Muros\n",
    "\n",
    "Con el uso de lana mineral, aislanglass y poliestireno, además de una membrana impermeable mejor conocida como fieltro, las paredes quedan protegidas de la temperatura de condensación, plagas y ruidos.\n",
    "\n",
    "### Las estructuras metálicas\n",
    "\n",
    "Se protegen del fuego mediante pinturas intumescentes, cuyo espesor de aplicación varía en función del tipo de elemento estructural utilizado (si soporta mayor carga del elemento a aislar).\n",
    "\n",
    "### Las estructuras de madera\n",
    "\n",
    "Se protegen de las plagas y la humedad mediante el uso de impregnación para evitar los hongos provocados por las termitas y la humedad.\n",
    "\n",
    "### Los Radieres\n",
    "\n",
    "Están protegidas de la humedad y la temperatura mediante poliestireno de alta densidad para evitar la pérdida de calor, polietileno como barrera de condensación y cama de ripio como barrera contra la humedad, de forma que si hay o existe humedad impide que ascienda.\n",
    "\n",
    "### Las instalaciones\n",
    "\n",
    "Están aisladas, incluyendo las tuberías de agua caliente para evitar pérdidas de calor, las tuberías de descarga para evitar ruidos, los cables eléctricos para evitar contactos y los olores (sellos de fugas).\n",
    "\n",
    "### Artefactos Sanitarios\n",
    "\n",
    "El equipo sanitario está sellado para evitar perdidas. (Electrodomésticos como lavabos e inodoros solo sellos contra fugas, no selle contra la pared).\n",
    "\n",
    "### Ventanas y puertasa\n",
    "\n",
    "Están selladas para evitar la pérdida de calor o la infiltración del viento. La eficiencia energética de este ahorro es crucial para la protección del medio ambiente ([Chile.cubica](https://www.chilecubica.com/materiales-de-construcci%C3%B3n/aislaci%C3%B3n/), 2021)"
   ]
  },
  {
   "cell_type": "markdown",
   "id": "497883c8",
   "metadata": {},
   "source": [
    "## Tipos de Aislantes Termicos\n",
    "\n",
    "\n",
    "<img src=\"../figuras/tipos_A1.jpg\" width=\"700\">\n",
    "\n",
    "<img src=\"../figuras/tipos_A2.jpg\" width=\"700\">\n",
    "\n",
    "([Ovacen](https://ovacen.com/materiales-aislantes/), 2018)\n",
    "\n",
    "\n",
    "## Tipos de Aislantes Acusticos\n",
    "\n",
    "- Espuma de poliuretano.\n",
    "\n",
    "- Láminas de geotextil.\n",
    "\n",
    "- Lanas de roca o fibra de vidrio.\n",
    "\n",
    "- Planchas asfálticas.\n",
    "\n",
    "- Corcho.\n",
    "\n",
    "<img src=\"../figuras/tipos_AA.jpg\" width=\"500\">\n",
    "\n",
    "## Tipos de Barreras de Humedad\n",
    "\n",
    "- Fieltro asfáltico.\n",
    "\n",
    "- Membrana hidráfuga.\n",
    "\n",
    "- Geotextil.\n",
    "\n",
    "<img src=\"../figuras/tipos_BH.jpg\" width=\"500\">\n",
    "\n",
    "\n",
    "## Tipos de Impermeabilizantes\n",
    "\n",
    "- Acrílicos o líquidos.\n",
    "\n",
    "- Asfálticos.\n",
    "\n",
    "- Cementosos.\n",
    "\n",
    "- Mantos prefabricados.\n",
    "\n",
    "- Poliuretanos.\n",
    "\n",
    "\n",
    "<img src=\"../figuras/tipos_I.jpg\" width=\"500\">"
   ]
  },
  {
   "cell_type": "code",
   "execution_count": 1,
   "id": "fc2c01fa",
   "metadata": {},
   "outputs": [
    {
     "data": {
      "image/jpeg": "[encoded data removed]",
      "text/html": [
       "\n",
       "        <iframe\n",
       "            width=\"400\"\n",
       "            height=\"300\"\n",
       "            src=\"https://www.youtube.com/embed/RYPqYsvV9G8\"\n",
       "            frameborder=\"0\"\n",
       "            allowfullscreen\n",
       "            \n",
       "        ></iframe>\n",
       "        "
      ],
      "text/plain": [
       "<IPython.lib.display.YouTubeVideo at 0x2635750d788>"
      ]
     },
     "execution_count": 1,
     "metadata": {},
     "output_type": "execute_result"
    }
   ],
   "source": [
    "from IPython.display import YouTubeVideo\n",
    "\n",
    "YouTubeVideo(\"RYPqYsvV9G8\")"
   ]
  },
  {
   "cell_type": "code",
   "execution_count": null,
   "id": "91c1d519",
   "metadata": {},
   "outputs": [],
   "source": []
  }
 ],
 "metadata": {
  "kernelspec": {
   "display_name": "Python 3 (ipykernel)",
   "language": "python",
   "name": "python3"
  },
  "language_info": {
   "codemirror_mode": {
    "name": "ipython",
    "version": 3
   },
   "file_extension": ".py",
   "mimetype": "text/x-python",
   "name": "python",
   "nbconvert_exporter": "python",
   "pygments_lexer": "ipython3",
   "version": "3.7.15"
  }
 },
 "nbformat": 4,
 "nbformat_minor": 5
}
