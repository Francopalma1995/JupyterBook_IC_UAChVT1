{
 "cells": [
  {
   "cell_type": "markdown",
   "id": "777bc979",
   "metadata": {},
   "source": [
    "# Ejemplos\n",
    "\n",
    "\n",
    "<img src=\"../figuras/indiceEj.png\" width=\"1000\">"
   ]
  },
  {
   "cell_type": "markdown",
   "id": "1c53d8cc",
   "metadata": {},
   "source": [
    "## Estuco de mortero en muro interior de hormigón y albañilería (acabado liso)\n",
    "\n",
    "<img src=\"../figuras/TOG-PROC-001_0.jpg\">\n",
    "\n",
    "<img src=\"../figuras/TOG-PROC-001_1.jpg\">\n",
    "\n",
    "<img src=\"../figuras/TOG-PROC-001_2.jpg\">\n",
    "\n",
    "<img src=\"../figuras/TOG-PROC-001_3.jpg\">\n",
    "\n",
    "<img src=\"../figuras/TOG-PROC-001_4.jpg\">\n",
    "\n",
    "\n",
    "<cite data-cite=\"Mondaca2020you3\">(Mondaca,2020)</cite>"
   ]
  },
  {
   "cell_type": "markdown",
   "id": "362f9c16",
   "metadata": {},
   "source": [
    "## Enlucido de yeso en muro interior de hormigón y albañilería\n",
    "\n",
    "\n",
    "<img src=\"../figuras/TOG-PROC-002_1.jpg\">\n",
    "\n",
    "<img src=\"../figuras/TOG-PROC-002_2.jpg\">\n",
    "\n",
    "<img src=\"../figuras/TOG-PROC-002_3.jpg\">\n",
    "\n",
    "<img src=\"../figuras/TOG-PROC-002_4.jpg\">\n",
    "\n",
    "\n",
    "<cite data-cite=\"Mondaca2020you3\">(Mondaca,2020)</cite>"
   ]
  },
  {
   "cell_type": "markdown",
   "id": "e43d00a9",
   "metadata": {},
   "source": [
    "## Empaste de tabique en plancha de yeso cartón\n",
    "\n",
    "\n",
    "<img src=\"../figuras/TOG-PROC-003_1.jpg\">\n",
    "\n",
    "<img src=\"../figuras/TOG-PROC-003_2.jpg\">\n",
    "\n",
    "<img src=\"../figuras/TOG-PROC-003_3.jpg\">\n",
    "\n",
    "<img src=\"../figuras/TOG-PROC-003_4.jpg\">\n",
    "\n",
    "\n",
    "<cite data-cite=\"Mondaca2020you3\">(Mondaca,2020)</cite>"
   ]
  },
  {
   "cell_type": "markdown",
   "id": "1334367b",
   "metadata": {},
   "source": [
    "## Enlucido de yeso en cielo (cielo raso bajo losa)\n",
    "\n",
    "<img src=\"../figuras/TOG-PROC-004_1.jpg\">\n",
    "\n",
    "<img src=\"../figuras/TOG-PROC-004_2.jpg\">\n",
    "\n",
    "<img src=\"../figuras/TOG-PROC-004_3.jpg\">\n",
    "\n",
    "<img src=\"../figuras/TOG-PROC-004_4.jpg\">\n",
    "\n",
    "\n",
    "<cite data-cite=\"Mondaca2020you3\">(Mondaca,2020)</cite>"
   ]
  },
  {
   "cell_type": "markdown",
   "id": "4f0083a9",
   "metadata": {},
   "source": [
    "## Nivelado de piso\n",
    "\n",
    "<img src=\"../figuras/TOG-PROC-005_1.jpg\">\n",
    "\n",
    "<img src=\"../figuras/TOG-PROC-005_2.jpg\">\n",
    "\n",
    "<img src=\"../figuras/TOG-PROC-005_3.jpg\">\n",
    "\n",
    "<img src=\"../figuras/TOG-PROC-005_4.jpg\">\n",
    "\n",
    "<img src=\"../figuras/TOG-PROC-005_5.jpg\">\n",
    "\n",
    "\n",
    "<cite data-cite=\"Mondaca2020you3\">(Mondaca,2020)</cite>"
   ]
  },
  {
   "cell_type": "markdown",
   "id": "74724aed",
   "metadata": {},
   "source": [
    "## Afinado de radier con alisadora de pavimento (helicóptero)\n",
    "\n",
    "<img src=\"../figuras/TOG-PROC-006_1.jpg\">\n",
    "\n",
    "<img src=\"../figuras/TOG-PROC-006_2.jpg\">\n",
    "\n",
    "<img src=\"../figuras/TOG-PROC-006_3.jpg\">\n",
    "\n",
    "\n",
    "<cite data-cite=\"Mondaca2020you3\">(Mondaca,2020)</cite>"
   ]
  },
  {
   "cell_type": "markdown",
   "id": "2dcf8af7",
   "metadata": {},
   "source": [
    "## Retape de losa\n",
    "\n",
    "<img src=\"../figuras/TOG-PROC-007_1.jpg\">\n",
    "\n",
    "<img src=\"../figuras/TOG-PROC-007_2.jpg\">\n",
    "\n",
    "<img src=\"../figuras/TOG-PROC-007_3.jpg\">\n",
    "\n",
    "<img src=\"../figuras/TOG-PROC-007_4.jpg\">\n",
    "\n",
    "\n",
    "\n",
    "<cite data-cite=\"Mondaca2020you3\">(Mondaca,2020)</cite>"
   ]
  },
  {
   "cell_type": "markdown",
   "id": "0c127c77",
   "metadata": {},
   "source": [
    "##  Reparaciones superficiales en elementos de hormigón\n",
    "\n",
    "\n",
    "<img src=\"../figuras/TOG-PROC-008_1.jpg\">\n",
    "\n",
    "<img src=\"../figuras/TOG-PROC-008_2.jpg\">\n",
    "\n",
    "<img src=\"../figuras/TOG-PROC-008_3.jpg\">\n",
    "\n",
    "<img src=\"../figuras/TOG-PROC-008_4.jpg\">\n",
    "\n",
    "<img src=\"../figuras/TOG-PROC-008_5.jpg\">\n",
    "\n",
    "<img src=\"../figuras/TOG-PROC-008_6.jpg\">\n",
    "\n",
    "<img src=\"../figuras/TOG-PROC-008_7.jpg\">\n",
    "\n",
    "\n",
    "<cite data-cite=\"Mondaca2020you3\">(Mondaca,2020)</cite>"
   ]
  },
  {
   "cell_type": "markdown",
   "id": "b2f6d99c",
   "metadata": {},
   "source": [
    "## Reparación mayor en elementos de hormigón\n",
    "\n",
    "\n",
    "<img src=\"../figuras/TOG-PROC-009_1.jpg\">\n",
    "\n",
    "<img src=\"../figuras/TOG-PROC-009_2.jpg\">\n",
    "\n",
    "<img src=\"../figuras/TOG-PROC-009_3.jpg\">\n",
    "\n",
    "<img src=\"../figuras/TOG-PROC-009_4.jpg\">\n",
    "\n",
    "<img src=\"../figuras/TOG-PROC-009_5.jpg\">\n",
    "\n",
    "<img src=\"../figuras/TOG-PROC-009_6.jpg\">\n",
    "\n",
    "\n",
    "<cite data-cite=\"Mondaca2020you3\">(Mondaca,2020)</cite>"
   ]
  },
  {
   "cell_type": "markdown",
   "id": "71a5f880",
   "metadata": {},
   "source": [
    "## Reparación de grietas en elementos de hormigón y/o estucos\n",
    "\n",
    "\n",
    "<img src=\"../figuras/TOG-PROC-0010_1.jpg\">\n",
    "\n",
    "<img src=\"../figuras/TOG-PROC-0010_2.jpg\">\n",
    "\n",
    "<img src=\"../figuras/TOG-PROC-0010_3.jpg\">\n",
    "\n",
    "<img src=\"../figuras/TOG-PROC-0010_4.jpg\">\n",
    "\n",
    "<img src=\"../figuras/TOG-PROC-0010_5.jpg\">\n",
    "\n",
    "<img src=\"../figuras/TOG-PROC-0010_6.jpg\">\n",
    "\n",
    "<img src=\"../figuras/TOG-PROC-0010_7.jpg\">\n",
    "\n",
    "<img src=\"../figuras/TOG-PROC-0010_8.jpg\">\n",
    "\n",
    "\n",
    "<cite data-cite=\"Mondaca2020you3\">(Mondaca,2020)</cite>"
   ]
  },
  {
   "cell_type": "code",
   "execution_count": null,
   "id": "5292f998",
   "metadata": {},
   "outputs": [],
   "source": []
  }
 ],
 "metadata": {
  "kernelspec": {
   "display_name": "Python 3 (ipykernel)",
   "language": "python",
   "name": "python3"
  },
  "language_info": {
   "codemirror_mode": {
    "name": "ipython",
    "version": 3
   },
   "file_extension": ".py",
   "mimetype": "text/x-python",
   "name": "python",
   "nbconvert_exporter": "python",
   "pygments_lexer": "ipython3",
   "version": "3.7.15"
  }
 },
 "nbformat": 4,
 "nbformat_minor": 5
}
