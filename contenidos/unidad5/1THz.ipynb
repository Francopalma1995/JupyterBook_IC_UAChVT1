{
 "cells": [
  {
   "cell_type": "markdown",
   "id": "786433ce",
   "metadata": {},
   "source": [
    "<img src=\"../figuras/terminacion_horizontal.jpg\" width=\"400\">\n",
    "\n",
    "\n",
    "\n",
    "\n",
    "# Revestimientos Horizontales\n",
    "\n",
    "\n",
    "\n",
    "\n",
    "<img src=\"../figuras/indiceTHz.png\" width=\"1000\">\n"
   ]
  },
  {
   "cell_type": "markdown",
   "id": "d3b904d3",
   "metadata": {},
   "source": [
    "## Revestimiento de pisos\n",
    "\n",
    "- Cerámicas - porcelanato.\n",
    "\n",
    "<img src=\"../figuras/terminacion_ceramicasH.jpg\" width=\"300\">\n",
    "\n",
    "- Pisos de Madera.\n",
    "\n",
    "<img src=\"../figuras/terminacion_MaderaH.jpg\" width=\"300\">\n",
    "\n",
    "- Pisos flotantes.\n",
    "\n",
    "<img src=\"../figuras/terminacion_pflotante.jpg\" width=\"300\">\n",
    "\n",
    "- Pisos en vinilos, laminados, de gomas.\n",
    "\n",
    "<img src=\"../figuras/terminacion_pvinilo.jpg\" width=\"300\">\n",
    "\n",
    "- Pisos alfombrados.\n",
    "\n",
    "<img src=\"../figuras/terminacion_alfombra.jpg\" width=\"300\">\n",
    "\n",
    "- Pisos de hormigón.\n",
    "\n",
    "<img src=\"../figuras/terminacion_phormigon.jpg\" width=\"300\">\n"
   ]
  },
  {
   "cell_type": "markdown",
   "id": "144ec4e8",
   "metadata": {},
   "source": [
    "## Revestimientos de cielo\n",
    "\n",
    "- Cielos de Yeso - Carton.\n",
    "\n",
    "<img src=\"../figuras/terminacion_CYC.jpg\" width=\"300\">\n",
    "\n",
    "- Cielos de madera.\n",
    "\n",
    "<img src=\"../figuras/terminacion_CM.jpg\" width=\"300\">\n",
    "\n",
    "- Cielos de PVC.\n",
    "\n",
    "<img src=\"../figuras/terminacion_CPVC.jpg\" width=\"300\">\n"
   ]
  },
  {
   "cell_type": "markdown",
   "id": "f8d55f50",
   "metadata": {},
   "source": [
    "- Cielos Modulares- Falsos.\n",
    "\n",
    "   - Placas de Yeso carton.\n",
    "   \n",
    "   <img src=\"../figuras/terminacion_CMYC.jpg\" width=\"300\">\n",
    "   \n",
    "   - Placas de madera. \n",
    "   \n",
    "   <img src=\"../figuras/terminacion_CMM.jpg\" width=\"300\">\n",
    "   \n",
    "   - Placas metálicas.\n",
    "   \n",
    "   <img src=\"../figuras/terminacion_CMMet.jpg\" width=\"300\">\n",
    "\n"
   ]
  },
  {
   "cell_type": "code",
   "execution_count": 1,
   "id": "6b603913",
   "metadata": {},
   "outputs": [
    {
     "data": {
      "image/jpeg": "[encoded data removed]",
      "text/html": [
       "\n",
       "        <iframe\n",
       "            width=\"400\"\n",
       "            height=\"300\"\n",
       "            src=\"https://www.youtube.com/embed/FRdBUbOiubM\"\n",
       "            frameborder=\"0\"\n",
       "            allowfullscreen\n",
       "            \n",
       "        ></iframe>\n",
       "        "
      ],
      "text/plain": [
       "<IPython.lib.display.YouTubeVideo at 0x1f79fda6a88>"
      ]
     },
     "execution_count": 1,
     "metadata": {},
     "output_type": "execute_result"
    }
   ],
   "source": [
    "from IPython.display import YouTubeVideo\n",
    "\n",
    "YouTubeVideo(\"FRdBUbOiubM\")"
   ]
  },
  {
   "cell_type": "code",
   "execution_count": null,
   "id": "d06ba50a",
   "metadata": {},
   "outputs": [],
   "source": []
  }
 ],
 "metadata": {
  "kernelspec": {
   "display_name": "Python 3 (ipykernel)",
   "language": "python",
   "name": "python3"
  },
  "language_info": {
   "codemirror_mode": {
    "name": "ipython",
    "version": 3
   },
   "file_extension": ".py",
   "mimetype": "text/x-python",
   "name": "python",
   "nbconvert_exporter": "python",
   "pygments_lexer": "ipython3",
   "version": "3.7.15"
  }
 },
 "nbformat": 4,
 "nbformat_minor": 5
}
