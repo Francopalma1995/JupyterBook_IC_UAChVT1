{
 "cells": [
  {
   "cell_type": "markdown",
   "id": "16dc2a0e",
   "metadata": {},
   "source": [
    "<img src=\"../figuras/cubiertas.jpg\" width=\"400\">\n",
    "\n",
    "\n",
    "# Cubierta\n",
    "\n",
    "<img src=\"../figuras/indiceCub1.png\" width=\"1000\">"
   ]
  },
  {
   "cell_type": "markdown",
   "id": "5e235d06",
   "metadata": {},
   "source": [
    "## Tipos de Cubiertas\n",
    "\n",
    "- Cubiertas planas.\n",
    "\n",
    "<img src=\"../figuras/cubiertas_planas.jpg\" width=\"400\">\n",
    "\n",
    "- Cubiertas invertidas.\n",
    "\n",
    "<img src=\"../figuras/cubiertas_invertidas.jpg\" width=\"400\">\n",
    "\n",
    "- Cubiertas con pendiente inclinada.\n",
    "\n",
    "<img src=\"../figuras/cubiertas_inclinadas.jpg\" width=\"400\">\n",
    "\n",
    "- Cubiertas carpadas o en pabellón.\n",
    "\n",
    "<img src=\"../figuras/cubiertas_pabellón.jpg\" width=\"400\">\n",
    "\n",
    "- Cubiertas mansardas.\n",
    "\n",
    "<img src=\"../figuras/cubiertas_mansardas.jpg\" width=\"400\">"
   ]
  },
  {
   "cell_type": "markdown",
   "id": "4c99f525",
   "metadata": {},
   "source": [
    "## Tipos de materiales de recubrimiento\n",
    "\n",
    "\n",
    "<img src=\"../figuras/Cubiertas_T.jpg\" width=\"400\">\n",
    "\n",
    "- Cubiertas de pizarra.\n",
    "\n",
    "<img src=\"../figuras/cubiertas_pizarra.jpg\" width=\"400\">\n",
    "\n",
    "- Cubiertas de madera.\n",
    "\n",
    "<img src=\"../figuras/cubiertas_madera.jpg\" width=\"400\">\n",
    "\n",
    "- Cubiertas de teja cerámica.\n",
    "\n",
    "<img src=\"../figuras/cubiertas_teja.jpg\" width=\"400\">\n",
    "\n",
    "- Cubiertas metálicas para tejados.\n",
    "\n",
    "<img src=\"../figuras/cubiertas_metalicas.jpg\" width=\"400\">\n",
    "\n",
    "- Cubiertas prefabricadas.\n",
    "\n",
    "<img src=\"../figuras/cubiertas_prefabricadas.jpg\" width=\"400\">\n",
    "\n",
    "- Cubiertas de tejas de asfalto.\n",
    "\n",
    "<img src=\"../figuras/cubiertas_tejaA.jpg\" width=\"400\">\n"
   ]
  },
  {
   "cell_type": "markdown",
   "id": "63d1473a",
   "metadata": {},
   "source": [
    "## Accesorios\n",
    "\n",
    "- Hojalateria.\n",
    "\n",
    "<img src=\"../figuras/hojalateria.jpg\" width=\"400\">\n",
    "\n",
    "- Hojalateria tejas.\n",
    "\n",
    "<img src=\"../figuras/hojalateria_teja.jpg\" width=\"400\">\n",
    "\n",
    "- Canaletas.\n",
    "\n",
    "<img src=\"../figuras/canaletas.jpg\" width=\"400\">"
   ]
  },
  {
   "cell_type": "code",
   "execution_count": 1,
   "id": "9211d926",
   "metadata": {},
   "outputs": [
    {
     "data": {
      "image/jpeg": "[encoded data removed]",
      "text/html": [
       "\n",
       "        <iframe\n",
       "            width=\"400\"\n",
       "            height=\"300\"\n",
       "            src=\"https://www.youtube.com/embed/7Hige6bt2oY\"\n",
       "            frameborder=\"0\"\n",
       "            allowfullscreen\n",
       "            \n",
       "        ></iframe>\n",
       "        "
      ],
      "text/plain": [
       "<IPython.lib.display.YouTubeVideo at 0x206affe0dc8>"
      ]
     },
     "execution_count": 1,
     "metadata": {},
     "output_type": "execute_result"
    }
   ],
   "source": [
    "from IPython.display import YouTubeVideo\n",
    "\n",
    "YouTubeVideo(\"7Hige6bt2oY\")"
   ]
  }
 ],
 "metadata": {
  "kernelspec": {
   "display_name": "Python 3 (ipykernel)",
   "language": "python",
   "name": "python3"
  },
  "language_info": {
   "codemirror_mode": {
    "name": "ipython",
    "version": 3
   },
   "file_extension": ".py",
   "mimetype": "text/x-python",
   "name": "python",
   "nbconvert_exporter": "python",
   "pygments_lexer": "ipython3",
   "version": "3.7.15"
  }
 },
 "nbformat": 4,
 "nbformat_minor": 5
}
