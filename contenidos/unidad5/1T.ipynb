{
 "cells": [
  {
   "cell_type": "markdown",
   "id": "5b0d7278",
   "metadata": {},
   "source": [
    "<img src=\"../figuras/terminacion_tejuela.jpg\" width=\"500\">\n",
    "\n",
    "\n",
    "\n",
    "# Terminaciones\n",
    "\n",
    "\n",
    "Mondaca(2020), señala en su trabajo de investigación “Diagramas de flujo aplicados a terminaciones de obra gruesa de edificaciones” que: “Las terminaciones de obra gruesa son aquellas que proporcionan un acabado especifico en muros, cielo y piso, tanto en zonas húmedas como zonas secas de un edificio, además de considerar reparaciones. Tienen la finalidad de ser el paso anterior al revestimiento final.”\n",
    "\n",
    "\n",
    "<img src=\"../figuras/indiceTer.png\" width=\"1000\">\n",
    "\n",
    "\n"
   ]
  },
  {
   "cell_type": "markdown",
   "id": "0834de22",
   "metadata": {},
   "source": [
    "## Terminaciones en Muro\n",
    "\n",
    "Los materiales más usados para esta partida son los estucos, pinturas, anticorrosivos, enchapados de madera, cerámicas, tapices, mármol, granito, entre otros (Stozitzky & Prieto,1989).\n",
    "\n",
    "\n",
    "\n",
    "### Revestimiento exterior\n",
    "\n",
    "\n",
    "<img src=\"../figuras/revestimiento_exterior.jpg\" width=\"500\">\n",
    "\n",
    "\n",
    "\n",
    "### Revestimiento interior\n",
    "\n",
    "<img src=\"../figuras/revestimiento_interior.jpg\" width=\"500\">\n",
    "\n",
    "\n",
    "\n",
    "\n"
   ]
  },
  {
   "cell_type": "markdown",
   "id": "a4bf2eb7",
   "metadata": {},
   "source": [
    "## Terminaciones en Cielo\n",
    "\n",
    "los materiales mas recurrentes en obra son los enlucidos en yeso y el empaste de yeso cartón en cielo (Mondaca, 2020).\n",
    "\n",
    "\n",
    "<img src=\"../figuras/revestimiento_cielo.jpg\" width=\"500\">\n",
    "\n"
   ]
  },
  {
   "cell_type": "markdown",
   "id": "433a4de7",
   "metadata": {},
   "source": [
    "## Terminaciones en Piso\n",
    "\n",
    " Los materiales mas utilizados en los pisos son cerámica, baldosas madera, pisos de hormigón, adoquines, vinilos, linóleo, alfombras, nivelado de piso, retape de losas, afinado de radier entre otros (Stozitzky & Prieto,1989).\n",
    " \n",
    " \n",
    "\n",
    "<img src=\"../figuras/revestimiento_piso.jpg\" width=\"500\">\n",
    "\n",
    "\n"
   ]
  },
  {
   "cell_type": "markdown",
   "id": "2429ee1d",
   "metadata": {},
   "source": [
    " \n",
    "## Terminaciones en Cocinas\n",
    "\n",
    " “Materiales adecuados para pisos y paredes, cocina integral, estufas entre otros” (Stozitzky & Prieto,1989).\n",
    " \n",
    " \n",
    " <img src=\"../figuras/revestimiento_cocina.jpg\" width=\"500\">"
   ]
  },
  {
   "cell_type": "markdown",
   "id": "795b960a",
   "metadata": {},
   "source": [
    "## Terminaciones en fachada\n",
    "\n",
    " “Los materiales mas usados son los estucos, pinturas, mosaicos, mármoles, granitos, piedras artificiales, perfiles de aluminio, cristales entre otros” (Stozitzky & Prieto,1989).\n",
    " \n",
    " \n",
    "<img src=\"../figuras/revestimiento_fachada.jpg\" width=\"500\"> \n",
    " \n"
   ]
  },
  {
   "cell_type": "markdown",
   "id": "8f107d93",
   "metadata": {},
   "source": [
    "## Terminaciones en Puertas\n",
    "\n",
    "Los tipos de puertas, según su funcionamiento dentro de la obra entre ellas están sujetas en uno de sus lados o abatibles, corredizas, giratorias, plegables. Según su tipo de material pueden ser de madera, metal, cristal, materiales sintéticos (Stozitzky & Prieto,1989).\n",
    "\n",
    "<img src=\"../figuras/puerta.jpg\" width=\"500\">\n"
   ]
  },
  {
   "cell_type": "markdown",
   "id": "ca9145ab",
   "metadata": {},
   "source": [
    "## Terminaciones en ventanas\n",
    "\n",
    " Tienen como función dar paso de la luz del exterior, al interior de la obra de construcción, además de proveer ventilación, con el paso de aire fresco dacia en interior. Estas deben ser impermeables y estancas, ajustando perfectamente contra el marco o vano. Pueden ser corredizas, tipo guillotina, de bisagra, o en forma de persiana y según su material, de madera, de perfiles de acero, aluminio, PVC, termo panel, estos se complementan con el uso de cristal (Stozitzky & Prieto,1989).\n",
    " \n",
    "\n",
    "<img src=\"../figuras/ventana.jpg\" width=\"500\">\n",
    "\n"
   ]
  },
  {
   "cell_type": "markdown",
   "id": "04acd89c",
   "metadata": {},
   "source": [
    "\n",
    "## Terminaciones en escaleras\n",
    "\n",
    "Se usan cerámicas, granito, mármol, para el revestimiento de los peldaños y barandas y pasamanos de madera, metal o acrílico como complemento.\n",
    "\n",
    "<img src=\"../figuras/revestimiento_escalera.jpg\" width=\"500\">\n"
   ]
  },
  {
   "cell_type": "markdown",
   "id": "5fbbffff",
   "metadata": {},
   "source": [
    "## Reparaciones \n",
    "\n",
    "ICH (2010), en su [“Manual de técnicas de Reparación y reparación”](https://ich.cl/documentos-edificacion/manual-de-tecnicas-de-reparacion-y-refuerzo/) señala que las fallas en una estructura generalmente se manifiesta de forma externa, cuya evaluación puede revelar el significado, la causa y las posibles consecuencias.\n",
    "\n",
    "<img src=\"../figuras/reparacion.jpg\" width=\"500\">\n",
    "\n",
    "Algunas manifestaciones externas de fallas en el hormigón:\n",
    "\n",
    "- Deterioro superficial\n",
    "\n",
    "<img src=\"../figuras/deterioro_superficial.jpg\" width=\"500\">\n",
    "\n",
    "- Discontinuidad local y profunda\n",
    "\n",
    "<img src=\"../figuras/nido.jpg\" width=\"500\">\n",
    "\n",
    "- Grietas\n",
    "\n",
    "<img src=\"../figuras/grieta.jpg\" width=\"500\">\n",
    "\n",
    "- Rotura de nudos\n",
    "\n",
    "<img src=\"../figuras/rotura.jpg\" width=\"500\">\n",
    "\n",
    "- Pandeo de armaduras verticales\n",
    "\n",
    "<img src=\"../figuras/pandeo.jpg\" width=\"500\">\n",
    "\n",
    "- Fractura de un elemento\n",
    "\n",
    "<img src=\"../figuras/fractura.jpg\" width=\"500\">\n"
   ]
  },
  {
   "cell_type": "markdown",
   "id": "e0e35cbd",
   "metadata": {},
   "source": [
    "## Cubierta\n",
    "\n",
    "La cubierta, que remata toda la estructura, debe ser impermeable y ofrecer aislamiento para proteger el interior de los elementos exteriores, el ruido y los cambios de temperatura. La cubierta se colocará para permitir el drenaje rápido del agua mientras evita que el agua ingrese al interior. La cubierta descansa sobre componentes estructurales como hormigón, acero o madera y debe sujetarse de forma segura.\n",
    "\n",
    "Los materiales más comunes utilizados son tejas de asfalto, de cemento, de barro, láminas de metal (zinc, canaletas), tejas de plástico reforzado y concreto inclinado u horizontal que ha sido impermeabilizado.\n",
    "\n",
    " \n",
    "<img src=\"../figuras/cubierta.jpg\" width=\"500\">"
   ]
  },
  {
   "cell_type": "code",
   "execution_count": null,
   "id": "58a2838a",
   "metadata": {},
   "outputs": [],
   "source": []
  }
 ],
 "metadata": {
  "kernelspec": {
   "display_name": "Python 3 (ipykernel)",
   "language": "python",
   "name": "python3"
  },
  "language_info": {
   "codemirror_mode": {
    "name": "ipython",
    "version": 3
   },
   "file_extension": ".py",
   "mimetype": "text/x-python",
   "name": "python",
   "nbconvert_exporter": "python",
   "pygments_lexer": "ipython3",
   "version": "3.7.15"
  }
 },
 "nbformat": 4,
 "nbformat_minor": 5
}
